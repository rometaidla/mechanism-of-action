{
 "cells": [
  {
   "cell_type": "code",
   "execution_count": 1,
   "metadata": {
    "_cell_guid": "b1076dfc-b9ad-4769-8c92-a6c4dae69d19",
    "_uuid": "8f2839f25d086af736a60e9eeb907d3b93b6e0e5",
    "execution": {
     "iopub.execute_input": "2020-11-29T12:12:23.641302Z",
     "iopub.status.busy": "2020-11-29T12:12:23.639220Z",
     "iopub.status.idle": "2020-11-29T12:12:23.644452Z",
     "shell.execute_reply": "2020-11-29T12:12:23.643818Z"
    },
    "papermill": {
     "duration": 0.038722,
     "end_time": "2020-11-29T12:12:23.644572",
     "exception": false,
     "start_time": "2020-11-29T12:12:23.605850",
     "status": "completed"
    },
    "tags": []
   },
   "outputs": [
    {
     "name": "stdout",
     "output_type": "stream",
     "text": [
      "Writing inference.py\n"
     ]
    }
   ],
   "source": [
    "%%writefile inference.py\n",
    "\n",
    "import numpy as np # linear algebra\n",
    "import pandas as pd # data processing, CSV file I/O (e.g. pd.read_csv)\n",
    "\n",
    "from xgboost import XGBClassifier\n",
    "from sklearn.model_selection import KFold\n",
    "from category_encoders import CountEncoder\n",
    "from sklearn.pipeline import Pipeline\n",
    "from sklearn.metrics import log_loss\n",
    "\n",
    "import matplotlib.pyplot as plt\n",
    "\n",
    "from sklearn.multioutput import MultiOutputClassifier\n",
    "\n",
    "import os\n",
    "import warnings\n",
    "warnings.filterwarnings('ignore')\n",
    "import datetime\n",
    "from time import time"
   ]
  },
  {
   "cell_type": "markdown",
   "metadata": {
    "papermill": {
     "duration": 0.024144,
     "end_time": "2020-11-29T12:12:23.693523",
     "exception": false,
     "start_time": "2020-11-29T12:12:23.669379",
     "status": "completed"
    },
    "tags": []
   },
   "source": [
    "# Framing as a binary classification problem\n",
    "\n",
    "Original notebook: https://www.kaggle.com/fchmiel/xgboost-baseline-multilabel-classification\n",
    "\n",
    "Baseline model using XGBoost and framing the problem as a n-binary classification problems (where n=206 and is the total number of classes). It uses [MultiOutputClassifier](https://scikit-learn.org/stable/modules/generated/sklearn.multioutput.MultiOutputClassifier.html#sklearn.multioutput.MultiOutputClassifier) wrapper in sklearn.\n",
    "\n",
    "This has the advantages that :\n",
    "- You can use models capable only of binary classification\n",
    "- It is easy to implement\n",
    "\n",
    "But has the disadvantages that:\n",
    "- You lose any correlation between labels which could be useful to the model\n",
    "- You need to train *n* models and is therefore slow"
   ]
  },
  {
   "cell_type": "code",
   "execution_count": 2,
   "metadata": {
    "execution": {
     "iopub.execute_input": "2020-11-29T12:12:23.748512Z",
     "iopub.status.busy": "2020-11-29T12:12:23.747651Z",
     "iopub.status.idle": "2020-11-29T12:12:23.754535Z",
     "shell.execute_reply": "2020-11-29T12:12:23.753884Z"
    },
    "papermill": {
     "duration": 0.036681,
     "end_time": "2020-11-29T12:12:23.754652",
     "exception": false,
     "start_time": "2020-11-29T12:12:23.717971",
     "status": "completed"
    },
    "tags": []
   },
   "outputs": [
    {
     "name": "stdout",
     "output_type": "stream",
     "text": [
      "Appending to inference.py\n"
     ]
    }
   ],
   "source": [
    "%%writefile -a inference.py\n",
    "\n",
    "SEED = 42\n",
    "NFOLDS = 5\n",
    "np.random.seed(SEED)"
   ]
  },
  {
   "cell_type": "markdown",
   "metadata": {
    "papermill": {
     "duration": 0.024859,
     "end_time": "2020-11-29T12:12:23.805865",
     "exception": false,
     "start_time": "2020-11-29T12:12:23.781006",
     "status": "completed"
    },
    "tags": []
   },
   "source": [
    "## Load data"
   ]
  },
  {
   "cell_type": "code",
   "execution_count": 3,
   "metadata": {
    "_cell_guid": "79c7e3d0-c299-4dcb-8224-4455121ee9b0",
    "_uuid": "d629ff2d2480ee46fbb7e2d37f6b5fab8052498a",
    "execution": {
     "iopub.execute_input": "2020-11-29T12:12:23.862847Z",
     "iopub.status.busy": "2020-11-29T12:12:23.861840Z",
     "iopub.status.idle": "2020-11-29T12:12:23.867793Z",
     "shell.execute_reply": "2020-11-29T12:12:23.867208Z"
    },
    "papermill": {
     "duration": 0.036288,
     "end_time": "2020-11-29T12:12:23.867905",
     "exception": false,
     "start_time": "2020-11-29T12:12:23.831617",
     "status": "completed"
    },
    "tags": []
   },
   "outputs": [
    {
     "name": "stdout",
     "output_type": "stream",
     "text": [
      "Appending to inference.py\n"
     ]
    }
   ],
   "source": [
    "%%writefile -a inference.py\n",
    "\n",
    "train_features = pd.read_csv('../input/lish-moa/train_features.csv')\n",
    "train_targets = pd.read_csv('../input/lish-moa/train_targets_scored.csv')\n",
    "test_features = pd.read_csv('../input/lish-moa/test_features.csv')\n",
    "\n",
    "#train_drug = pd.read_csv('../input/lish-moa/train_drug.csv')\n",
    "\n",
    "sub = pd.read_csv('../input/lish-moa/sample_submission.csv')"
   ]
  },
  {
   "cell_type": "markdown",
   "metadata": {
    "papermill": {
     "duration": 0.025116,
     "end_time": "2020-11-29T12:12:23.918740",
     "exception": false,
     "start_time": "2020-11-29T12:12:23.893624",
     "status": "completed"
    },
    "tags": []
   },
   "source": [
    "## Explore data"
   ]
  },
  {
   "cell_type": "code",
   "execution_count": 4,
   "metadata": {
    "execution": {
     "iopub.execute_input": "2020-11-29T12:12:23.977072Z",
     "iopub.status.busy": "2020-11-29T12:12:23.974906Z",
     "iopub.status.idle": "2020-11-29T12:12:23.977896Z",
     "shell.execute_reply": "2020-11-29T12:12:23.978470Z"
    },
    "papermill": {
     "duration": 0.034091,
     "end_time": "2020-11-29T12:12:23.978627",
     "exception": false,
     "start_time": "2020-11-29T12:12:23.944536",
     "status": "completed"
    },
    "tags": []
   },
   "outputs": [],
   "source": [
    "#train_features.head()"
   ]
  },
  {
   "cell_type": "code",
   "execution_count": 5,
   "metadata": {
    "execution": {
     "iopub.execute_input": "2020-11-29T12:12:24.035864Z",
     "iopub.status.busy": "2020-11-29T12:12:24.035071Z",
     "iopub.status.idle": "2020-11-29T12:12:24.040246Z",
     "shell.execute_reply": "2020-11-29T12:12:24.039670Z"
    },
    "papermill": {
     "duration": 0.035405,
     "end_time": "2020-11-29T12:12:24.040367",
     "exception": false,
     "start_time": "2020-11-29T12:12:24.004962",
     "status": "completed"
    },
    "tags": []
   },
   "outputs": [],
   "source": [
    "#train_targets.head()"
   ]
  },
  {
   "cell_type": "code",
   "execution_count": 6,
   "metadata": {
    "execution": {
     "iopub.execute_input": "2020-11-29T12:12:24.097408Z",
     "iopub.status.busy": "2020-11-29T12:12:24.096336Z",
     "iopub.status.idle": "2020-11-29T12:12:24.099173Z",
     "shell.execute_reply": "2020-11-29T12:12:24.098483Z"
    },
    "papermill": {
     "duration": 0.033096,
     "end_time": "2020-11-29T12:12:24.099280",
     "exception": false,
     "start_time": "2020-11-29T12:12:24.066184",
     "status": "completed"
    },
    "tags": []
   },
   "outputs": [],
   "source": [
    "#train_drug.head()"
   ]
  },
  {
   "cell_type": "code",
   "execution_count": 7,
   "metadata": {
    "execution": {
     "iopub.execute_input": "2020-11-29T12:12:24.156494Z",
     "iopub.status.busy": "2020-11-29T12:12:24.155451Z",
     "iopub.status.idle": "2020-11-29T12:12:24.160521Z",
     "shell.execute_reply": "2020-11-29T12:12:24.159607Z"
    },
    "papermill": {
     "duration": 0.035443,
     "end_time": "2020-11-29T12:12:24.160634",
     "exception": false,
     "start_time": "2020-11-29T12:12:24.125191",
     "status": "completed"
    },
    "tags": []
   },
   "outputs": [],
   "source": [
    "#print(f\"Train_drug nr of rows: {train_drug.shape[0]}, columns: {train_drug.shape[1]}\")\n",
    "#print(f\"Train_targets nr of rows: {train_targets.shape[0]}, columns: {train_targets.shape[1]}\")\n",
    "#print(f\"Train_features nr of rows: {train_features.shape[0]}, columns: {train_features.shape[1]}\")"
   ]
  },
  {
   "cell_type": "code",
   "execution_count": 8,
   "metadata": {
    "execution": {
     "iopub.execute_input": "2020-11-29T12:12:24.217925Z",
     "iopub.status.busy": "2020-11-29T12:12:24.216864Z",
     "iopub.status.idle": "2020-11-29T12:12:24.219818Z",
     "shell.execute_reply": "2020-11-29T12:12:24.219070Z"
    },
    "papermill": {
     "duration": 0.033145,
     "end_time": "2020-11-29T12:12:24.219929",
     "exception": false,
     "start_time": "2020-11-29T12:12:24.186784",
     "status": "completed"
    },
    "tags": []
   },
   "outputs": [],
   "source": [
    "#print(f\"Counts of unique drugs in a training set:\")\n",
    "#print(f\"{train_drug['drug_id'].value_counts()}\")"
   ]
  },
  {
   "cell_type": "code",
   "execution_count": 9,
   "metadata": {
    "execution": {
     "iopub.execute_input": "2020-11-29T12:12:24.277346Z",
     "iopub.status.busy": "2020-11-29T12:12:24.276553Z",
     "iopub.status.idle": "2020-11-29T12:12:24.281230Z",
     "shell.execute_reply": "2020-11-29T12:12:24.280608Z"
    },
    "papermill": {
     "duration": 0.035105,
     "end_time": "2020-11-29T12:12:24.281350",
     "exception": false,
     "start_time": "2020-11-29T12:12:24.246245",
     "status": "completed"
    },
    "tags": []
   },
   "outputs": [],
   "source": [
    "#print(f\"Number of unique drugs in a training set: {train_drug.drug_id.nunique()}\")"
   ]
  },
  {
   "cell_type": "code",
   "execution_count": 10,
   "metadata": {
    "execution": {
     "iopub.execute_input": "2020-11-29T12:12:24.339248Z",
     "iopub.status.busy": "2020-11-29T12:12:24.338406Z",
     "iopub.status.idle": "2020-11-29T12:12:24.342412Z",
     "shell.execute_reply": "2020-11-29T12:12:24.341836Z"
    },
    "papermill": {
     "duration": 0.034691,
     "end_time": "2020-11-29T12:12:24.342529",
     "exception": false,
     "start_time": "2020-11-29T12:12:24.307838",
     "status": "completed"
    },
    "tags": []
   },
   "outputs": [],
   "source": [
    "# Create new Pandas df of unique drug_ids\n",
    "#unique_drugs = train_drug.drug_id.unique().reshape((train_drug.drug_id.unique().size))\n",
    "#unique_drugs_ids = pd.DataFrame({'drug_id' : unique_drugs[:], 'drug_index' : range(0,unique_drugs.size)})\n",
    "#unique_drugs_ids"
   ]
  },
  {
   "cell_type": "markdown",
   "metadata": {
    "papermill": {
     "duration": 0.026544,
     "end_time": "2020-11-29T12:12:24.395745",
     "exception": false,
     "start_time": "2020-11-29T12:12:24.369201",
     "status": "completed"
    },
    "tags": []
   },
   "source": [
    "## Baseline calculation\n",
    "\n",
    "MoA Baseline calculation is discussed here: https://www.kaggle.com/carlmcbrideellis/moa-baseline-0-02398-0-s-0-13073\n",
    "\n",
    "The very first thing one should do in any competition is produce a baseline score against which one can measure the performance of our model. In a classification problem a good baseline to start from is to calculate the score produced what is known as the Zero Rule classifier (aka. ZeroR or 0-R), and it simply consists of the majority class (majority vote?) (i.e. the mode) of the dataset. For example in this case hypothesizing that there is no positive response to anything.\n",
    "\n",
    "Following code:"
   ]
  },
  {
   "cell_type": "code",
   "execution_count": 11,
   "metadata": {
    "execution": {
     "iopub.execute_input": "2020-11-29T12:12:24.454059Z",
     "iopub.status.busy": "2020-11-29T12:12:24.453053Z",
     "iopub.status.idle": "2020-11-29T12:12:24.456524Z",
     "shell.execute_reply": "2020-11-29T12:12:24.455957Z"
    },
    "papermill": {
     "duration": 0.034129,
     "end_time": "2020-11-29T12:12:24.456647",
     "exception": false,
     "start_time": "2020-11-29T12:12:24.422518",
     "status": "completed"
    },
    "tags": []
   },
   "outputs": [],
   "source": [
    "#sample = pd.read_csv('../input/lish-moa/sample_submission.csv') \n",
    "#sample.iloc[:,1:] = 0.0\n",
    "#sample.to_csv('submission.csv',index=False)"
   ]
  },
  {
   "attachments": {
    "image.png": {
     "image/png": "[encoded data removed]"
    }
   },
   "cell_type": "markdown",
   "metadata": {
    "papermill": {
     "duration": 0.026385,
     "end_time": "2020-11-29T12:12:24.510824",
     "exception": false,
     "start_time": "2020-11-29T12:12:24.484439",
     "status": "completed"
    },
    "tags": []
   },
   "source": [
    "Produces a Public Score of:\n",
    "![image.png](attachment:image.png)"
   ]
  },
  {
   "cell_type": "markdown",
   "metadata": {
    "papermill": {
     "duration": 0.02719,
     "end_time": "2020-11-29T12:12:24.564629",
     "exception": false,
     "start_time": "2020-11-29T12:12:24.537439",
     "status": "completed"
    },
    "tags": []
   },
   "source": [
    "However, in this particular competition we are asked to predict probabilities, and not classes.\n",
    "\n",
    "According to a book \"Deep Learning with Python\" (by Francois Chollet): \n",
    "\n",
    "[Baseline] ...the highest score you can reach without looking at the test features (or validation features in this case). Let's use the positivity rate of each target as measured in the training subset to generate predictions for the validation subset.\n",
    "\n",
    "With the following code from: https://www.kaggle.com/fchollet/moa-keras-kerastuner-best-practices we get another baseline Public score, which our models need to beat."
   ]
  },
  {
   "cell_type": "code",
   "execution_count": 12,
   "metadata": {
    "execution": {
     "iopub.execute_input": "2020-11-29T12:12:24.624566Z",
     "iopub.status.busy": "2020-11-29T12:12:24.623522Z",
     "iopub.status.idle": "2020-11-29T12:12:24.626243Z",
     "shell.execute_reply": "2020-11-29T12:12:24.626782Z"
    },
    "papermill": {
     "duration": 0.034417,
     "end_time": "2020-11-29T12:12:24.626921",
     "exception": false,
     "start_time": "2020-11-29T12:12:24.592504",
     "status": "completed"
    },
    "tags": []
   },
   "outputs": [],
   "source": [
    "# read in \n",
    "#scored = pd.read_csv('../input/lish-moa/train_targets_scored.csv')\n",
    "#sample = pd.read_csv('../input/lish-moa/sample_submission.csv')\n",
    "\n",
    "# calculate\n",
    "#predictions = []\n",
    "#for target_name in list(scored)[1:]:\n",
    "#    rate = float(sum(scored[target_name])) / len(scored)\n",
    "#    predictions.append(rate)\n",
    "#predictions = np.array( [predictions] * len(sample) )\n",
    "\n",
    "# write out\n",
    "#sample.iloc[:,1:] = predictions\n",
    "#sample.to_csv('submission.csv',index=False)"
   ]
  },
  {
   "attachments": {
    "image.png": {
     "image/png": "[encoded data removed]"
    }
   },
   "cell_type": "markdown",
   "metadata": {
    "papermill": {
     "duration": 0.026789,
     "end_time": "2020-11-29T12:12:24.680556",
     "exception": false,
     "start_time": "2020-11-29T12:12:24.653767",
     "status": "completed"
    },
    "tags": []
   },
   "source": [
    "Which gives a baseline of:\n",
    "![image.png](attachment:image.png)\n",
    "\n",
    "Our objective in this competition to develop a model that results in a score that is **lower** than this value (but without overfitting!)"
   ]
  },
  {
   "cell_type": "markdown",
   "metadata": {
    "papermill": {
     "duration": 0.027508,
     "end_time": "2020-11-29T12:12:24.735152",
     "exception": false,
     "start_time": "2020-11-29T12:12:24.707644",
     "status": "completed"
    },
    "tags": []
   },
   "source": [
    "## Preprocess data"
   ]
  },
  {
   "cell_type": "code",
   "execution_count": 13,
   "metadata": {
    "execution": {
     "iopub.execute_input": "2020-11-29T12:12:24.794890Z",
     "iopub.status.busy": "2020-11-29T12:12:24.793919Z",
     "iopub.status.idle": "2020-11-29T12:12:24.800541Z",
     "shell.execute_reply": "2020-11-29T12:12:24.799956Z"
    },
    "papermill": {
     "duration": 0.038972,
     "end_time": "2020-11-29T12:12:24.800649",
     "exception": false,
     "start_time": "2020-11-29T12:12:24.761677",
     "status": "completed"
    },
    "tags": []
   },
   "outputs": [
    {
     "name": "stdout",
     "output_type": "stream",
     "text": [
      "Appending to inference.py\n"
     ]
    }
   ],
   "source": [
    "%%writefile -a inference.py\n",
    "\n",
    "def preprocess_features(df):\n",
    "    df = df.copy()\n",
    "    \n",
    "    df['cp_dose'] = df['cp_dose'].map({'D1': 0, 'D2': 1})\n",
    "    df['cp_time'] = df['cp_time'].map({24: 0, 48: 1, 72: 2})\n",
    "    #df['cp_type'] = df['cp_type'].map({'trt_cp': 0, 'ctl_vehicle': 1})\n",
    "    #df.drop(columns=['sig_id', 'cp_type'], inplace=True)\n",
    "    df.drop(columns=['sig_id'], inplace=True)\n",
    "    return df\n",
    "    \n",
    "# merge drug_id with unique index\n",
    "#train_drug = train_drug.merge(unique_drugs_ids, on = 'drug_id', how = 'left')\n",
    "    \n",
    "# add drug_id to train_features and train_targets\n",
    "#train_features = train_features.merge(train_drug, on = 'sig_id', how = 'left')\n",
    "#train_features.drop(columns=['drug_id'], inplace=True)\n",
    "#train_targets = train_targets.merge(train_drug, on = 'sig_id', how = 'left')\n",
    "#train_targets.drop(columns=['drug_id'], inplace=True)\n",
    "\n",
    "# preprocess train_features\n",
    "train_features = preprocess_features(train_features)\n",
    "train_features2 = train_features.copy() #keep train_features with cp_type to later evalute model\n",
    "train_features.drop(columns=['cp_type'], inplace=True)\n",
    "\n",
    "# preprocess test_features\n",
    "test_features = preprocess_features(test_features)\n",
    "test_features.drop(columns=['cp_type'], inplace=True)\n",
    "\n",
    "# preprocess train_targets\n",
    "train_targets.drop(columns=['sig_id'], inplace=True)\n",
    "\n",
    "# transform to numpy\n",
    "X_train_features = train_features.iloc[:,:].to_numpy()\n",
    "y_train_targets = train_targets.iloc[:,:].to_numpy()\n",
    "X_test = test_features.iloc[:,:].to_numpy()"
   ]
  },
  {
   "cell_type": "markdown",
   "metadata": {
    "papermill": {
     "duration": 0.02694,
     "end_time": "2020-11-29T12:12:24.854950",
     "exception": false,
     "start_time": "2020-11-29T12:12:24.828010",
     "status": "completed"
    },
    "tags": []
   },
   "source": [
    "## Set parameters"
   ]
  },
  {
   "cell_type": "code",
   "execution_count": 14,
   "metadata": {
    "execution": {
     "iopub.execute_input": "2020-11-29T12:12:24.917658Z",
     "iopub.status.busy": "2020-11-29T12:12:24.915630Z",
     "iopub.status.idle": "2020-11-29T12:12:24.920636Z",
     "shell.execute_reply": "2020-11-29T12:12:24.919801Z"
    },
    "papermill": {
     "duration": 0.038579,
     "end_time": "2020-11-29T12:12:24.920788",
     "exception": false,
     "start_time": "2020-11-29T12:12:24.882209",
     "status": "completed"
    },
    "tags": []
   },
   "outputs": [
    {
     "name": "stdout",
     "output_type": "stream",
     "text": [
      "Appending to inference.py\n"
     ]
    }
   ],
   "source": [
    "%%writefile -a inference.py\n",
    "\n",
    "classifier = MultiOutputClassifier(XGBClassifier(tree_method='gpu_hist'))\n",
    "\n",
    "clf = Pipeline([('encode', CountEncoder(cols=[0, 2])),\n",
    "                ('classify', classifier)\n",
    "               ])"
   ]
  },
  {
   "cell_type": "code",
   "execution_count": 15,
   "metadata": {
    "execution": {
     "iopub.execute_input": "2020-11-29T12:12:24.983670Z",
     "iopub.status.busy": "2020-11-29T12:12:24.982917Z",
     "iopub.status.idle": "2020-11-29T12:12:24.988724Z",
     "shell.execute_reply": "2020-11-29T12:12:24.989407Z"
    },
    "papermill": {
     "duration": 0.039931,
     "end_time": "2020-11-29T12:12:24.989584",
     "exception": false,
     "start_time": "2020-11-29T12:12:24.949653",
     "status": "completed"
    },
    "tags": []
   },
   "outputs": [
    {
     "name": "stdout",
     "output_type": "stream",
     "text": [
      "Appending to inference.py\n"
     ]
    }
   ],
   "source": [
    "%%writefile -a inference.py\n",
    "\n",
    "params = {'classify__estimator__colsample_bytree': 0.6522,\n",
    "          'classify__estimator__gamma': 3.6975,\n",
    "          'classify__estimator__learning_rate': 0.0503,\n",
    "          'classify__estimator__max_delta_step': 2.0706,\n",
    "          'classify__estimator__max_depth': 10,\n",
    "          'classify__estimator__min_child_weight': 31.5800,\n",
    "          'classify__estimator__n_estimators': 166,\n",
    "          'classify__estimator__subsample': 0.8639\n",
    "         }\n",
    "\n",
    "_ = clf.set_params(**params)"
   ]
  },
  {
   "cell_type": "markdown",
   "metadata": {
    "papermill": {
     "duration": 0.039048,
     "end_time": "2020-11-29T12:12:25.057667",
     "exception": false,
     "start_time": "2020-11-29T12:12:25.018619",
     "status": "completed"
    },
    "tags": []
   },
   "source": [
    "\n",
    "## Train the model\n",
    "\n",
    "Framing this problem as a binary classification problem has the disadvantage that you need to train as many models as you have classes. For this problem this means training 206 models per fold, for the large number of features included in this dataset this may take a long time..."
   ]
  },
  {
   "cell_type": "code",
   "execution_count": 16,
   "metadata": {
    "execution": {
     "iopub.execute_input": "2020-11-29T12:12:25.124730Z",
     "iopub.status.busy": "2020-11-29T12:12:25.123694Z",
     "iopub.status.idle": "2020-11-29T12:12:25.131200Z",
     "shell.execute_reply": "2020-11-29T12:12:25.130380Z"
    },
    "papermill": {
     "duration": 0.043665,
     "end_time": "2020-11-29T12:12:25.131348",
     "exception": false,
     "start_time": "2020-11-29T12:12:25.087683",
     "status": "completed"
    },
    "tags": []
   },
   "outputs": [
    {
     "name": "stdout",
     "output_type": "stream",
     "text": [
      "Appending to inference.py\n"
     ]
    }
   ],
   "source": [
    "%%writefile -a inference.py\n",
    "\n",
    "oof_preds = np.zeros(y_train_targets.shape)\n",
    "test_preds = np.zeros((test_features.shape[0], y_train_targets.shape[1]))\n",
    "oof_losses = []\n",
    "kf = KFold(n_splits=NFOLDS)\n",
    "\n",
    "start_time = time()\n",
    "\n",
    "for fn, (trn_idx, val_idx) in enumerate(kf.split(X_train_features, y_train_targets)):\n",
    "    print('Starting fold: ', fn)\n",
    "    X_train, X_val = X_train_features[trn_idx], X_train_features[val_idx]\n",
    "    y_train, y_val = y_train_targets[trn_idx], y_train_targets[val_idx]\n",
    "    \n",
    "    # drop where cp_type==ctl_vehicle (baseline)\n",
    "    #ctl_mask = X_train[:,0]=='ctl_vehicle'\n",
    "    #X_train = X_train[~ctl_mask,:]\n",
    "    #y_train = y_train[~ctl_mask]\n",
    "    \n",
    "    clf.fit(X_train, y_train)\n",
    "    val_preds = clf.predict_proba(X_val) # list of preds per class\n",
    "    val_preds = np.array(val_preds)[:,:,1].T # take the positive class\n",
    "    oof_preds[val_idx] = val_preds\n",
    "    \n",
    "    loss = log_loss(np.ravel(y_val), np.ravel(val_preds))\n",
    "    oof_losses.append(loss)\n",
    "    preds = clf.predict_proba(X_test)\n",
    "    preds = np.array(preds)[:,:,1].T # take the positive class\n",
    "    test_preds += preds / NFOLDS\n",
    "    \n",
    "print(oof_losses)\n",
    "print('Mean OOF loss across folds', np.mean(oof_losses))\n",
    "print('STD OOF loss across folds', np.std(oof_losses))\n",
    "print(f'Time: [{str(datetime.timedelta(seconds = time() - start_time))}]')"
   ]
  },
  {
   "cell_type": "code",
   "execution_count": 17,
   "metadata": {
    "execution": {
     "iopub.execute_input": "2020-11-29T12:12:25.197285Z",
     "iopub.status.busy": "2020-11-29T12:12:25.196213Z",
     "iopub.status.idle": "2020-11-29T12:12:25.201478Z",
     "shell.execute_reply": "2020-11-29T12:12:25.200893Z"
    },
    "papermill": {
     "duration": 0.03991,
     "end_time": "2020-11-29T12:12:25.201590",
     "exception": false,
     "start_time": "2020-11-29T12:12:25.161680",
     "status": "completed"
    },
    "tags": []
   },
   "outputs": [
    {
     "name": "stdout",
     "output_type": "stream",
     "text": [
      "Appending to inference.py\n"
     ]
    }
   ],
   "source": [
    "%%writefile -a inference.py\n",
    "\n",
    "# set control train preds to 0\n",
    "control_mask = train_features2['cp_type']=='ctl_vehicle'\n",
    "oof_preds[control_mask] = 0\n",
    "\n",
    "print('OOF log loss: ', log_loss(np.ravel(y_train_targets), np.ravel(oof_preds)))\n",
    "np.save('xgboos-oof.npy', oof_preds)"
   ]
  },
  {
   "cell_type": "markdown",
   "metadata": {
    "papermill": {
     "duration": 0.029562,
     "end_time": "2020-11-29T12:12:25.261523",
     "exception": false,
     "start_time": "2020-11-29T12:12:25.231961",
     "status": "completed"
    },
    "tags": []
   },
   "source": [
    "## Analysis of OOF preds\n"
   ]
  },
  {
   "cell_type": "code",
   "execution_count": 18,
   "metadata": {
    "execution": {
     "iopub.execute_input": "2020-11-29T12:12:25.327574Z",
     "iopub.status.busy": "2020-11-29T12:12:25.326555Z",
     "iopub.status.idle": "2020-11-29T12:12:25.331735Z",
     "shell.execute_reply": "2020-11-29T12:12:25.332514Z"
    },
    "papermill": {
     "duration": 0.041318,
     "end_time": "2020-11-29T12:12:25.332701",
     "exception": false,
     "start_time": "2020-11-29T12:12:25.291383",
     "status": "completed"
    },
    "tags": []
   },
   "outputs": [
    {
     "name": "stdout",
     "output_type": "stream",
     "text": [
      "Appending to inference.py\n"
     ]
    }
   ],
   "source": [
    "%%writefile -a inference.py\n",
    "\n",
    "# create the submission file\n",
    "sub.iloc[:,1:] = test_preds\n",
    "sub.to_csv('submission.csv', index=False)"
   ]
  },
  {
   "cell_type": "markdown",
   "metadata": {
    "papermill": {
     "duration": 0.030656,
     "end_time": "2020-11-29T12:12:25.395015",
     "exception": false,
     "start_time": "2020-11-29T12:12:25.364359",
     "status": "completed"
    },
    "tags": []
   },
   "source": [
    "## Saving model"
   ]
  },
  {
   "cell_type": "code",
   "execution_count": 19,
   "metadata": {
    "execution": {
     "iopub.execute_input": "2020-11-29T12:12:25.462983Z",
     "iopub.status.busy": "2020-11-29T12:12:25.461878Z",
     "iopub.status.idle": "2020-11-29T12:12:25.467703Z",
     "shell.execute_reply": "2020-11-29T12:12:25.466962Z"
    },
    "papermill": {
     "duration": 0.041829,
     "end_time": "2020-11-29T12:12:25.467862",
     "exception": false,
     "start_time": "2020-11-29T12:12:25.426033",
     "status": "completed"
    },
    "tags": []
   },
   "outputs": [
    {
     "name": "stdout",
     "output_type": "stream",
     "text": [
      "Appending to inference.py\n"
     ]
    }
   ],
   "source": [
    "%%writefile -a inference.py\n",
    "\n",
    "import joblib\n",
    "# save the model to disk\n",
    "filename = 'xgboost_final_model.sav'\n",
    "joblib.dump(clf, filename)"
   ]
  },
  {
   "cell_type": "code",
   "execution_count": 20,
   "metadata": {
    "execution": {
     "iopub.execute_input": "2020-11-29T12:12:25.539572Z",
     "iopub.status.busy": "2020-11-29T12:12:25.538581Z",
     "iopub.status.idle": "2020-11-29T12:39:46.446554Z",
     "shell.execute_reply": "2020-11-29T12:39:46.445407Z"
    },
    "papermill": {
     "duration": 1640.94509,
     "end_time": "2020-11-29T12:39:46.446703",
     "exception": false,
     "start_time": "2020-11-29T12:12:25.501613",
     "status": "completed"
    },
    "tags": []
   },
   "outputs": [
    {
     "name": "stdout",
     "output_type": "stream",
     "text": [
      "Starting fold:  0\r\n",
      "Starting fold:  1\r\n",
      "Starting fold:  2\r\n",
      "Starting fold:  3\r\n",
      "Starting fold:  4\r\n",
      "[0.016866573245056624, 0.016939743142604533, 0.01678390398210714, 0.01693455750032279, 0.0171170575506215]\r\n",
      "Mean OOF loss across folds 0.01692836708414252\r\n",
      "STD OOF loss across folds 0.00010996353440784766\r\n",
      "Time: [0:27:03.088036]\r\n",
      "OOF log loss:  0.016686917384286584\r\n"
     ]
    }
   ],
   "source": [
    "! python inference.py"
   ]
  },
  {
   "cell_type": "code",
   "execution_count": null,
   "metadata": {
    "papermill": {
     "duration": 0.040435,
     "end_time": "2020-11-29T12:39:46.525510",
     "exception": false,
     "start_time": "2020-11-29T12:39:46.485075",
     "status": "completed"
    },
    "tags": []
   },
   "outputs": [],
   "source": []
  }
 ],
 "metadata": {
  "kernelspec": {
   "display_name": "Python 3",
   "language": "python",
   "name": "python3"
  },
  "language_info": {
   "codemirror_mode": {
    "name": "ipython",
    "version": 3
   },
   "file_extension": ".py",
   "mimetype": "text/x-python",
   "name": "python",
   "nbconvert_exporter": "python",
   "pygments_lexer": "ipython3",
   "version": "3.7.6"
  },
  "papermill": {
   "duration": 1648.091629,
   "end_time": "2020-11-29T12:39:46.670367",
   "environment_variables": {},
   "exception": null,
   "input_path": "__notebook__.ipynb",
   "output_path": "__notebook__.ipynb",
   "parameters": {},
   "start_time": "2020-11-29T12:12:18.578738",
   "version": "2.1.0"
  }
 },
 "nbformat": 4,
 "nbformat_minor": 4
}
