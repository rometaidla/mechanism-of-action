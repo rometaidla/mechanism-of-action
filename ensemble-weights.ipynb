{
 "cells": [
  {
   "cell_type": "markdown",
   "metadata": {
    "papermill": {
     "duration": 0.013662,
     "end_time": "2020-11-30T18:05:25.338550",
     "exception": false,
     "start_time": "2020-11-30T18:05:25.324888",
     "status": "completed"
    },
    "tags": []
   },
   "source": [
    "From: https://www.kaggle.com/gogo827jz/optimise-blending-weights-with-bonus-0"
   ]
  },
  {
   "cell_type": "code",
   "execution_count": 1,
   "metadata": {
    "execution": {
     "iopub.execute_input": "2020-11-30T18:05:25.369184Z",
     "iopub.status.busy": "2020-11-30T18:05:25.368452Z",
     "iopub.status.idle": "2020-11-30T18:05:26.230164Z",
     "shell.execute_reply": "2020-11-30T18:05:26.229017Z"
    },
    "papermill": {
     "duration": 0.879068,
     "end_time": "2020-11-30T18:05:26.230296",
     "exception": false,
     "start_time": "2020-11-30T18:05:25.351228",
     "status": "completed"
    },
    "tags": []
   },
   "outputs": [],
   "source": [
    "import sys\n",
    "sys.path.append('../input/iterative-stratification/iterative-stratification-master')\n",
    "from iterstrat.ml_stratifiers import MultilabelStratifiedKFold"
   ]
  },
  {
   "cell_type": "code",
   "execution_count": 2,
   "metadata": {
    "_cell_guid": "79c7e3d0-c299-4dcb-8224-4455121ee9b0",
    "_uuid": "d629ff2d2480ee46fbb7e2d37f6b5fab8052498a",
    "execution": {
     "iopub.execute_input": "2020-11-30T18:05:26.263360Z",
     "iopub.status.busy": "2020-11-30T18:05:26.262664Z",
     "iopub.status.idle": "2020-11-30T18:05:27.053794Z",
     "shell.execute_reply": "2020-11-30T18:05:27.052641Z"
    },
    "papermill": {
     "duration": 0.810204,
     "end_time": "2020-11-30T18:05:27.053922",
     "exception": false,
     "start_time": "2020-11-30T18:05:26.243718",
     "status": "completed"
    },
    "tags": []
   },
   "outputs": [],
   "source": [
    "import datetime\n",
    "import pandas as pd\n",
    "from time import time\n",
    "# from autograd import grad\n",
    "# import autograd.numpy as np\n",
    "import numpy as np\n",
    "from numba import njit\n",
    "from scipy.optimize import minimize, fsolve\n",
    "\n",
    "from sklearn.metrics import log_loss"
   ]
  },
  {
   "cell_type": "markdown",
   "metadata": {
    "papermill": {
     "duration": 0.013545,
     "end_time": "2020-11-30T18:05:27.081262",
     "exception": false,
     "start_time": "2020-11-30T18:05:27.067717",
     "status": "completed"
    },
    "tags": []
   },
   "source": [
    "# Helpers"
   ]
  },
  {
   "cell_type": "code",
   "execution_count": 3,
   "metadata": {
    "execution": {
     "iopub.execute_input": "2020-11-30T18:05:27.135610Z",
     "iopub.status.busy": "2020-11-30T18:05:27.134789Z",
     "iopub.status.idle": "2020-11-30T18:05:27.137744Z",
     "shell.execute_reply": "2020-11-30T18:05:27.138253Z"
    },
    "papermill": {
     "duration": 0.043085,
     "end_time": "2020-11-30T18:05:27.138384",
     "exception": false,
     "start_time": "2020-11-30T18:05:27.095299",
     "status": "completed"
    },
    "tags": []
   },
   "outputs": [],
   "source": [
    "# CPMP's logloss from https://www.kaggle.com/c/lish-moa/discussion/183010\n",
    "def log_loss_numpy(y_pred):\n",
    "    y_true_ravel = np.asarray(y_true).ravel()\n",
    "    y_pred = np.asarray(y_pred).ravel()\n",
    "    y_pred = np.clip(y_pred, 1e-15, 1 - 1e-15)\n",
    "    loss = np.where(y_true_ravel == 1, - np.log(y_pred), - np.log(1 - y_pred))\n",
    "    return loss.mean()\n",
    "\n",
    "def func_numpy_metric(weights):\n",
    "    oof_blend = np.tensordot(weights, oof, axes = ((0), (0)))\n",
    "    return log_loss_numpy(oof_blend)\n",
    "\n",
    "def grad_func(weights):\n",
    "    oof_clip = np.clip(oof, 1e-15, 1 - 1e-15)\n",
    "    gradients = np.zeros(oof.shape[0])\n",
    "    for i in range(oof.shape[0]):\n",
    "        a, b, c = y_true, oof_clip[i], np.zeros((oof.shape[1], oof.shape[2]))\n",
    "        for j in range(oof.shape[0]):\n",
    "            if j != i:\n",
    "                c += weights[j] * oof_clip[j]\n",
    "        gradients[i] = -np.mean((-a*b+(b**2)*weights[i]+b*c)/((b**2)*(weights[i]**2)+2*b*c*weights[i]-b*weights[i]+(c**2)-c))\n",
    "    return gradients\n",
    "\n",
    "@njit\n",
    "def grad_func_jit(weights):\n",
    "    oof_clip = np.minimum(1 - 1e-15, np.maximum(oof, 1e-15))\n",
    "    gradients = np.zeros(oof.shape[0])\n",
    "    for i in range(oof.shape[0]):\n",
    "        a, b, c = y_true, oof_clip[i], np.zeros((oof.shape[1], oof.shape[2]))\n",
    "        for j in range(oof.shape[0]):\n",
    "            if j != i:\n",
    "                c += weights[j] * oof_clip[j]\n",
    "        gradients[i] = -np.mean((-a*b+(b**2)*weights[i]+b*c)/((b**2)*(weights[i]**2)+2*b*c*weights[i]-b*weights[i]+(c**2)-c))\n",
    "    return gradients\n",
    "\n",
    "def log_loss_metric(y_true, y_pred):\n",
    "    metrics = []\n",
    "    for _target in train_targets.columns:\n",
    "        metrics.append(log_loss(y_true.loc[:, _target], y_pred.loc[:, _target].astype(float), labels = [0,1]))\n",
    "    return np.mean(metrics)"
   ]
  },
  {
   "cell_type": "markdown",
   "metadata": {
    "papermill": {
     "duration": 0.013245,
     "end_time": "2020-11-30T18:05:27.165184",
     "exception": false,
     "start_time": "2020-11-30T18:05:27.151939",
     "status": "completed"
    },
    "tags": []
   },
   "source": [
    "# Load data"
   ]
  },
  {
   "cell_type": "code",
   "execution_count": 4,
   "metadata": {
    "execution": {
     "iopub.execute_input": "2020-11-30T18:05:27.200417Z",
     "iopub.status.busy": "2020-11-30T18:05:27.199527Z",
     "iopub.status.idle": "2020-11-30T18:05:32.741991Z",
     "shell.execute_reply": "2020-11-30T18:05:32.741344Z"
    },
    "papermill": {
     "duration": 5.563478,
     "end_time": "2020-11-30T18:05:32.742138",
     "exception": false,
     "start_time": "2020-11-30T18:05:27.178660",
     "status": "completed"
    },
    "tags": []
   },
   "outputs": [],
   "source": [
    "train_targets = pd.read_csv('../input/lish-moa/train_targets_scored.csv')\n",
    "del train_targets['sig_id']\n",
    "\n",
    "train_features = pd.read_csv('../input/lish-moa/train_features.csv')\n",
    "del train_features['sig_id']"
   ]
  },
  {
   "cell_type": "code",
   "execution_count": 5,
   "metadata": {
    "execution": {
     "iopub.execute_input": "2020-11-30T18:05:32.776209Z",
     "iopub.status.busy": "2020-11-30T18:05:32.775583Z",
     "iopub.status.idle": "2020-11-30T18:05:36.221938Z",
     "shell.execute_reply": "2020-11-30T18:05:36.220655Z"
    },
    "papermill": {
     "duration": 3.466509,
     "end_time": "2020-11-30T18:05:36.222089",
     "exception": false,
     "start_time": "2020-11-30T18:05:32.755580",
     "status": "completed"
    },
    "tags": []
   },
   "outputs": [],
   "source": [
    "keras_val_submission = pd.read_csv('../input/keras-neural-net/val-submission.csv')\n",
    "np.save('keras-oof.npy', keras_val_submission.values)\n",
    "\n",
    "xboost_val_submission = np.load('../input/xgboost-baseline-saved-model-kadri/xgboos-oof.npy')\n",
    "\n",
    "#log_reg_val_submission = np.load('../input/nb-log-reg-3-multilabelskf-ver2-saved-pyinference/log-reg-oof.npy', allow_pickle=True)\n",
    "#np.save('log-reg-oof.npy', log_reg_val_submission)\n",
    "\n",
    "\n",
    "marge_keras_val_submission = pd.read_csv('../input/marge-keras-v2-load-model/val-submission.csv')\n",
    "np.save('marge-keras-oof.npy', marge_keras_val_submission.values)\n",
    "\n",
    "\n",
    "#val_submissions = [keras_val_submission, xboost_val_submission, log_reg_val_submission, marge_keras_val_submission]"
   ]
  },
  {
   "cell_type": "code",
   "execution_count": 6,
   "metadata": {
    "execution": {
     "iopub.execute_input": "2020-11-30T18:05:36.274261Z",
     "iopub.status.busy": "2020-11-30T18:05:36.273420Z",
     "iopub.status.idle": "2020-11-30T18:05:37.779733Z",
     "shell.execute_reply": "2020-11-30T18:05:37.778524Z"
    },
    "papermill": {
     "duration": 1.544356,
     "end_time": "2020-11-30T18:05:37.779864",
     "exception": false,
     "start_time": "2020-11-30T18:05:36.235508",
     "status": "completed"
    },
    "tags": []
   },
   "outputs": [],
   "source": [
    "test_features = pd.read_csv('../input/lish-moa/test_features.csv')\n",
    "if len(test_features) == 3982: # if public test set, we can use existing submissions\n",
    "    keras_submission = pd.read_csv('../input/keras-neural-net/submission.csv')\n",
    "    xboost_submission = pd.read_csv('../input/xgboost-baseline-saved-model-kadri/submission.csv')\n",
    "    #logreg_submission = pd.read_csv('../input/nb-log-reg-3-multilabelskf-ver2-saved-pyinference/submission.csv')\n",
    "    marge_keras_submission = pd.read_csv('../input/marge-keras-v2-load-model/submission.csv')\n",
    "else: # if private test set, we have to rerun inference  \n",
    "    print(\"Reruning inference for keras nn\")\n",
    "    !python ../input/keras-neural-net/inference.py\n",
    "    keras_submission = pd.read_csv('./submission.csv')\n",
    "    \n",
    "    print(\"Reruning inference for xgboost\")\n",
    "    ! python ../input/xgboost-baseline-saved-model-kadri/inference.py\n",
    "    xboost_submission = pd.read_csv('./submission.csv')\n",
    "    \n",
    "    #print(\"Reruning inference for logistic regression\")\n",
    "    #! python ../input/nb-log-reg-3-multilabelskf-ver2-saved-pyinference/inference.py\n",
    "    #logreg_submission = pd.read_csv('./submission.csv')\n",
    "    \n",
    "    print(\"Reruning inference for keras nn2\")\n",
    "    ! python ../input/marge-keras-v2-load-model/inference.py\n",
    "    marge_keras_submission = pd.read_csv('./submission.csv')\n",
    "    \n",
    "del keras_submission['sig_id']\n",
    "del xboost_submission['sig_id']\n",
    "#del logreg_submission['sig_id']\n",
    "del marge_keras_submission['sig_id']"
   ]
  },
  {
   "cell_type": "markdown",
   "metadata": {
    "papermill": {
     "duration": 0.014375,
     "end_time": "2020-11-30T18:05:37.808244",
     "exception": false,
     "start_time": "2020-11-30T18:05:37.793869",
     "status": "completed"
    },
    "tags": []
   },
   "source": [
    "# Calculate weights"
   ]
  },
  {
   "cell_type": "code",
   "execution_count": 7,
   "metadata": {
    "execution": {
     "iopub.execute_input": "2020-11-30T18:05:37.844514Z",
     "iopub.status.busy": "2020-11-30T18:05:37.843336Z",
     "iopub.status.idle": "2020-11-30T18:05:37.968938Z",
     "shell.execute_reply": "2020-11-30T18:05:37.968358Z"
    },
    "papermill": {
     "duration": 0.147328,
     "end_time": "2020-11-30T18:05:37.969069",
     "exception": false,
     "start_time": "2020-11-30T18:05:37.821741",
     "status": "completed"
    },
    "tags": []
   },
   "outputs": [],
   "source": [
    "y_true = train_targets.values\n",
    "\n",
    "oof_dict = {'Keras NN (Romet)': 'keras-oof.npy',\n",
    "            'XGBoost (Kadri)': '../input/xgboost-baseline-saved-model-kadri/xgboos-oof.npy',\n",
    "            #'Log regression (Linda)': 'log-reg-oof.npy',\n",
    "            \"Keras NN (Marge)\": 'marge-keras-oof.npy'\n",
    "           }\n",
    "\n",
    "oof = np.zeros((len(oof_dict), y_true.shape[0], y_true.shape[1]))\n",
    "for i in range(oof.shape[0]):\n",
    "    oof[i] = np.load(list(oof_dict.values())[i], allow_pickle=True)"
   ]
  },
  {
   "cell_type": "code",
   "execution_count": 8,
   "metadata": {
    "execution": {
     "iopub.execute_input": "2020-11-30T18:05:38.003341Z",
     "iopub.status.busy": "2020-11-30T18:05:38.002364Z",
     "iopub.status.idle": "2020-11-30T18:05:38.765576Z",
     "shell.execute_reply": "2020-11-30T18:05:38.766547Z"
    },
    "papermill": {
     "duration": 0.783617,
     "end_time": "2020-11-30T18:05:38.766714",
     "exception": false,
     "start_time": "2020-11-30T18:05:37.983097",
     "status": "completed"
    },
    "tags": []
   },
   "outputs": [
    {
     "name": "stdout",
     "output_type": "stream",
     "text": [
      "Keras NN (Romet) CV:\t 0.014628500036354452\n",
      "XGBoost (Kadri) CV:\t 0.016686917384286584\n",
      "Keras NN (Marge) CV:\t 0.014927192786466119\n",
      "--------------------------------------------------\n",
      "CPU times: user 621 ms, sys: 132 ms, total: 754 ms\n",
      "Wall time: 757 ms\n"
     ]
    }
   ],
   "source": [
    "%%time\n",
    "\n",
    "log_loss_scores = {}\n",
    "for n, key in enumerate(oof_dict.keys()):\n",
    "    score_oof = log_loss_numpy(oof[n])\n",
    "    log_loss_scores[key] = score_oof\n",
    "    print(f'{key} CV:\\t', score_oof)\n",
    "print('-' * 50)"
   ]
  },
  {
   "cell_type": "code",
   "execution_count": 9,
   "metadata": {
    "execution": {
     "iopub.execute_input": "2020-11-30T18:05:38.801508Z",
     "iopub.status.busy": "2020-11-30T18:05:38.800843Z",
     "iopub.status.idle": "2020-11-30T18:05:38.804944Z",
     "shell.execute_reply": "2020-11-30T18:05:38.804474Z"
    },
    "papermill": {
     "duration": 0.022665,
     "end_time": "2020-11-30T18:05:38.805086",
     "exception": false,
     "start_time": "2020-11-30T18:05:38.782421",
     "status": "completed"
    },
    "tags": []
   },
   "outputs": [],
   "source": [
    "#test_weights = np.array([1 / oof.shape[0]] * oof.shape[0])\n",
    "#%timeit -r 10 grad_func(test_weights)\n",
    "#%timeit -r 10 grad_func_jit(test_weights)"
   ]
  },
  {
   "cell_type": "code",
   "execution_count": 10,
   "metadata": {
    "execution": {
     "iopub.execute_input": "2020-11-30T18:05:38.854383Z",
     "iopub.status.busy": "2020-11-30T18:05:38.853529Z",
     "iopub.status.idle": "2020-11-30T18:06:04.366790Z",
     "shell.execute_reply": "2020-11-30T18:06:04.367479Z"
    },
    "papermill": {
     "duration": 25.547266,
     "end_time": "2020-11-30T18:06:04.367664",
     "exception": false,
     "start_time": "2020-11-30T18:05:38.820398",
     "status": "completed"
    },
    "tags": []
   },
   "outputs": [
    {
     "name": "stdout",
     "output_type": "stream",
     "text": [
      "Inital Blend OOF: 0.014911209252197482\n",
      "[00:25] Optimised Blend OOF: 0.014596764317620416\n",
      "Optimised Weights: [0.78402541 0.01172581 0.20424878]\n"
     ]
    }
   ],
   "source": [
    "tol = 1e-10\n",
    "init_guess = [1 / oof.shape[0]] * oof.shape[0]\n",
    "bnds = [(0, 1) for _ in range(oof.shape[0])]\n",
    "cons = {'type': 'eq', \n",
    "        'fun': lambda x: np.sum(x) - 1, \n",
    "        'jac': lambda x: [1] * len(x)}\n",
    "\n",
    "print('Inital Blend OOF:', func_numpy_metric(init_guess))\n",
    "start_time = time()\n",
    "res_scipy = minimize(fun = func_numpy_metric, \n",
    "                     x0 = init_guess, \n",
    "                     method = 'SLSQP', \n",
    "                     jac = grad_func_jit, # grad_func \n",
    "                     bounds = bnds, \n",
    "                     constraints = cons, \n",
    "                     tol = tol)\n",
    "print(f'[{str(datetime.timedelta(seconds = time() - start_time))[2:7]}] Optimised Blend OOF:', res_scipy.fun)\n",
    "weights = res_scipy.x\n",
    "print('Optimised Weights:', weights)"
   ]
  },
  {
   "cell_type": "code",
   "execution_count": 11,
   "metadata": {
    "execution": {
     "iopub.execute_input": "2020-11-30T18:06:04.408262Z",
     "iopub.status.busy": "2020-11-30T18:06:04.406893Z",
     "iopub.status.idle": "2020-11-30T18:06:04.411495Z",
     "shell.execute_reply": "2020-11-30T18:06:04.410804Z"
    },
    "papermill": {
     "duration": 0.02744,
     "end_time": "2020-11-30T18:06:04.411614",
     "exception": false,
     "start_time": "2020-11-30T18:06:04.384174",
     "status": "completed"
    },
    "tags": []
   },
   "outputs": [
    {
     "name": "stdout",
     "output_type": "stream",
     "text": [
      "Check the sum of all weights: 1.0\n",
      "Great! The sum of all weights equals to 1!\n"
     ]
    }
   ],
   "source": [
    "print('Check the sum of all weights:', np.sum(res_scipy.x))\n",
    "if np.sum(res_scipy.x) - 1 <= tol:\n",
    "    print('Great! The sum of all weights equals to 1!')\n",
    "else:\n",
    "    print('Manual adjustion is needed to modify the weights.')"
   ]
  },
  {
   "cell_type": "code",
   "execution_count": 12,
   "metadata": {
    "execution": {
     "iopub.execute_input": "2020-11-30T18:06:04.449982Z",
     "iopub.status.busy": "2020-11-30T18:06:04.449253Z",
     "iopub.status.idle": "2020-11-30T18:06:04.455263Z",
     "shell.execute_reply": "2020-11-30T18:06:04.454766Z"
    },
    "papermill": {
     "duration": 0.026768,
     "end_time": "2020-11-30T18:06:04.455358",
     "exception": false,
     "start_time": "2020-11-30T18:06:04.428590",
     "status": "completed"
    },
    "tags": []
   },
   "outputs": [
    {
     "name": "stdout",
     "output_type": "stream",
     "text": [
      "Keras NN (Romet): 0.7840\n",
      "XGBoost (Kadri): 0.0117\n",
      "Keras NN (Marge): 0.2042\n"
     ]
    }
   ],
   "source": [
    "for i, model_name in enumerate(oof_dict):\n",
    "    print(f\"{model_name}: {weights[i]:.4f}\")"
   ]
  },
  {
   "cell_type": "code",
   "execution_count": 13,
   "metadata": {
    "execution": {
     "iopub.execute_input": "2020-11-30T18:06:04.495205Z",
     "iopub.status.busy": "2020-11-30T18:06:04.494558Z",
     "iopub.status.idle": "2020-11-30T18:06:05.437550Z",
     "shell.execute_reply": "2020-11-30T18:06:05.438502Z"
    },
    "papermill": {
     "duration": 0.965948,
     "end_time": "2020-11-30T18:06:05.438662",
     "exception": false,
     "start_time": "2020-11-30T18:06:04.472714",
     "status": "completed"
    },
    "tags": []
   },
   "outputs": [
    {
     "name": "stdout",
     "output_type": "stream",
     "text": [
      "Weighted val loss: 0.014596764317620421\n"
     ]
    }
   ],
   "source": [
    "#validation_submission = np.dot(val_submissions, weights)\n",
    "validation_submission = keras_val_submission * weights[0] + xboost_val_submission * weights[1] + marge_keras_val_submission * weights[2]\n",
    "print(f'Weighted val loss: {log_loss_metric(train_targets, validation_submission)}')"
   ]
  },
  {
   "cell_type": "markdown",
   "metadata": {
    "papermill": {
     "duration": 0.017427,
     "end_time": "2020-11-30T18:06:05.474270",
     "exception": false,
     "start_time": "2020-11-30T18:06:05.456843",
     "status": "completed"
    },
    "tags": []
   },
   "source": [
    "# Submission"
   ]
  },
  {
   "cell_type": "code",
   "execution_count": 14,
   "metadata": {
    "execution": {
     "iopub.execute_input": "2020-11-30T18:06:05.518240Z",
     "iopub.status.busy": "2020-11-30T18:06:05.517174Z",
     "iopub.status.idle": "2020-11-30T18:06:08.180445Z",
     "shell.execute_reply": "2020-11-30T18:06:08.179434Z"
    },
    "papermill": {
     "duration": 2.688637,
     "end_time": "2020-11-30T18:06:08.180562",
     "exception": false,
     "start_time": "2020-11-30T18:06:05.491925",
     "status": "completed"
    },
    "tags": []
   },
   "outputs": [],
   "source": [
    "test_submission = keras_submission * weights[0] + xboost_submission * weights[1] + marge_keras_submission * weights[2]\n",
    "\n",
    "submission = pd.read_csv('../input/lish-moa/sample_submission.csv')\n",
    "submission.iloc[:, 1:] = 0\n",
    "submission.iloc[:, 1:] = test_submission\n",
    "submission.to_csv('submission.csv', index=False)"
   ]
  },
  {
   "cell_type": "code",
   "execution_count": null,
   "metadata": {
    "papermill": {
     "duration": 0.018528,
     "end_time": "2020-11-30T18:06:08.217870",
     "exception": false,
     "start_time": "2020-11-30T18:06:08.199342",
     "status": "completed"
    },
    "tags": []
   },
   "outputs": [],
   "source": []
  }
 ],
 "metadata": {
  "kernelspec": {
   "display_name": "Python 3",
   "language": "python",
   "name": "python3"
  },
  "language_info": {
   "codemirror_mode": {
    "name": "ipython",
    "version": 3
   },
   "file_extension": ".py",
   "mimetype": "text/x-python",
   "name": "python",
   "nbconvert_exporter": "python",
   "pygments_lexer": "ipython3",
   "version": "3.7.6"
  },
  "papermill": {
   "duration": 47.416307,
   "end_time": "2020-11-30T18:06:08.341819",
   "environment_variables": {},
   "exception": null,
   "input_path": "__notebook__.ipynb",
   "output_path": "__notebook__.ipynb",
   "parameters": {},
   "start_time": "2020-11-30T18:05:20.925512",
   "version": "2.1.0"
  }
 },
 "nbformat": 4,
 "nbformat_minor": 4
}
