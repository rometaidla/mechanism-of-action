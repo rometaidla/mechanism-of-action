{
 "cells": [
  {
   "cell_type": "markdown",
   "metadata": {
    "papermill": {
     "duration": 0.011692,
     "end_time": "2020-11-30T17:33:25.828643",
     "exception": false,
     "start_time": "2020-11-30T17:33:25.816951",
     "status": "completed"
    },
    "tags": []
   },
   "source": [
    "# Testing model load"
   ]
  },
  {
   "cell_type": "code",
   "execution_count": 1,
   "metadata": {
    "_cell_guid": "b1076dfc-b9ad-4769-8c92-a6c4dae69d19",
    "_uuid": "8f2839f25d086af736a60e9eeb907d3b93b6e0e5",
    "execution": {
     "iopub.execute_input": "2020-11-30T17:33:25.858036Z",
     "iopub.status.busy": "2020-11-30T17:33:25.856994Z",
     "iopub.status.idle": "2020-11-30T17:33:25.861626Z",
     "shell.execute_reply": "2020-11-30T17:33:25.862336Z"
    },
    "papermill": {
     "duration": 0.022705,
     "end_time": "2020-11-30T17:33:25.862506",
     "exception": false,
     "start_time": "2020-11-30T17:33:25.839801",
     "status": "completed"
    },
    "tags": []
   },
   "outputs": [
    {
     "name": "stdout",
     "output_type": "stream",
     "text": [
      "Writing inference.py\n"
     ]
    }
   ],
   "source": [
    "%%writefile inference.py\n",
    "\n",
    "import numpy as np # linear algebra\n",
    "import pandas as pd # data processing, CSV file I/O (e.g. pd.read_csv)\n",
    "\n",
    "from xgboost import XGBClassifier\n",
    "from sklearn.model_selection import KFold\n",
    "from category_encoders import CountEncoder\n",
    "from sklearn.pipeline import Pipeline\n",
    "from sklearn.metrics import log_loss\n",
    "\n",
    "import matplotlib.pyplot as plt\n",
    "\n",
    "from sklearn.multioutput import MultiOutputClassifier\n",
    "\n",
    "import os\n",
    "import warnings\n",
    "warnings.filterwarnings('ignore')\n",
    "import datetime\n",
    "from time import time"
   ]
  },
  {
   "cell_type": "markdown",
   "metadata": {
    "papermill": {
     "duration": 0.01103,
     "end_time": "2020-11-30T17:33:25.886466",
     "exception": false,
     "start_time": "2020-11-30T17:33:25.875436",
     "status": "completed"
    },
    "tags": []
   },
   "source": [
    "## Load test and submission data"
   ]
  },
  {
   "cell_type": "code",
   "execution_count": 2,
   "metadata": {
    "_cell_guid": "79c7e3d0-c299-4dcb-8224-4455121ee9b0",
    "_uuid": "d629ff2d2480ee46fbb7e2d37f6b5fab8052498a",
    "execution": {
     "iopub.execute_input": "2020-11-30T17:33:25.915058Z",
     "iopub.status.busy": "2020-11-30T17:33:25.914097Z",
     "iopub.status.idle": "2020-11-30T17:33:25.918419Z",
     "shell.execute_reply": "2020-11-30T17:33:25.917902Z"
    },
    "papermill": {
     "duration": 0.020585,
     "end_time": "2020-11-30T17:33:25.918512",
     "exception": false,
     "start_time": "2020-11-30T17:33:25.897927",
     "status": "completed"
    },
    "tags": []
   },
   "outputs": [
    {
     "name": "stdout",
     "output_type": "stream",
     "text": [
      "Appending to inference.py\n"
     ]
    }
   ],
   "source": [
    "%%writefile -a inference.py\n",
    "\n",
    "train_features = pd.read_csv('../input/lish-moa/train_features.csv')\n",
    "train_targets = pd.read_csv('../input/lish-moa/train_targets_scored.csv')\n",
    "\n",
    "test_features = pd.read_csv('../input/lish-moa/test_features.csv')\n",
    "sub = pd.read_csv('../input/lish-moa/sample_submission.csv')"
   ]
  },
  {
   "cell_type": "markdown",
   "metadata": {
    "papermill": {
     "duration": 0.013797,
     "end_time": "2020-11-30T17:33:25.945568",
     "exception": false,
     "start_time": "2020-11-30T17:33:25.931771",
     "status": "completed"
    },
    "tags": []
   },
   "source": [
    "## Preprocess data"
   ]
  },
  {
   "cell_type": "code",
   "execution_count": 3,
   "metadata": {
    "execution": {
     "iopub.execute_input": "2020-11-30T17:33:25.978263Z",
     "iopub.status.busy": "2020-11-30T17:33:25.977360Z",
     "iopub.status.idle": "2020-11-30T17:33:25.982091Z",
     "shell.execute_reply": "2020-11-30T17:33:25.981583Z"
    },
    "papermill": {
     "duration": 0.022675,
     "end_time": "2020-11-30T17:33:25.982215",
     "exception": false,
     "start_time": "2020-11-30T17:33:25.959540",
     "status": "completed"
    },
    "tags": []
   },
   "outputs": [
    {
     "name": "stdout",
     "output_type": "stream",
     "text": [
      "Appending to inference.py\n"
     ]
    }
   ],
   "source": [
    "%%writefile -a inference.py\n",
    "\n",
    "def preprocess_features(df):\n",
    "    df = df.copy()\n",
    "    df['cp_dose'] = df['cp_dose'].map({'D1': 0, 'D2': 1})\n",
    "    df['cp_time'] = df['cp_time'].map({24: 0, 48: 1, 72: 2})\n",
    "    df.drop(columns=['sig_id'], inplace=True)\n",
    "    return df\n",
    "\n",
    "# preprocess train_features\n",
    "train_features = preprocess_features(train_features)\n",
    "train_features2 = train_features.copy() #keep train_features with cp_type to later evalute model\n",
    "train_features.drop(columns=['cp_type'], inplace=True)\n",
    "\n",
    "# preprocess test_features\n",
    "test_features = preprocess_features(test_features)\n",
    "test_features.drop(columns=['cp_type'], inplace=True)\n",
    "\n",
    "# preprocess train_targets\n",
    "train_targets.drop(columns=['sig_id'], inplace=True)\n",
    "\n",
    "# transform to numpy\n",
    "X_train_features = train_features.iloc[:,:].to_numpy()\n",
    "y_train_targets = train_targets.iloc[:,:].to_numpy()\n",
    "X_test = test_features.iloc[:,:].to_numpy()"
   ]
  },
  {
   "cell_type": "markdown",
   "metadata": {
    "papermill": {
     "duration": 0.012662,
     "end_time": "2020-11-30T17:33:26.007971",
     "exception": false,
     "start_time": "2020-11-30T17:33:25.995309",
     "status": "completed"
    },
    "tags": []
   },
   "source": [
    "## Load model"
   ]
  },
  {
   "cell_type": "code",
   "execution_count": 4,
   "metadata": {
    "execution": {
     "iopub.execute_input": "2020-11-30T17:33:26.038511Z",
     "iopub.status.busy": "2020-11-30T17:33:26.037577Z",
     "iopub.status.idle": "2020-11-30T17:33:26.042420Z",
     "shell.execute_reply": "2020-11-30T17:33:26.041879Z"
    },
    "papermill": {
     "duration": 0.021915,
     "end_time": "2020-11-30T17:33:26.042545",
     "exception": false,
     "start_time": "2020-11-30T17:33:26.020630",
     "status": "completed"
    },
    "tags": []
   },
   "outputs": [
    {
     "name": "stdout",
     "output_type": "stream",
     "text": [
      "Appending to inference.py\n"
     ]
    }
   ],
   "source": [
    "%%writefile -a inference.py\n",
    "\n",
    "import joblib\n",
    "loaded_model = joblib.load('../input/xgboost-baseline-saved-model/xgboost_final_model.sav')"
   ]
  },
  {
   "cell_type": "markdown",
   "metadata": {
    "papermill": {
     "duration": 0.013098,
     "end_time": "2020-11-30T17:33:26.070119",
     "exception": false,
     "start_time": "2020-11-30T17:33:26.057021",
     "status": "completed"
    },
    "tags": []
   },
   "source": [
    "## Test model prediction on training data"
   ]
  },
  {
   "cell_type": "code",
   "execution_count": 5,
   "metadata": {
    "execution": {
     "iopub.execute_input": "2020-11-30T17:33:26.102288Z",
     "iopub.status.busy": "2020-11-30T17:33:26.101363Z",
     "iopub.status.idle": "2020-11-30T17:33:26.105540Z",
     "shell.execute_reply": "2020-11-30T17:33:26.106292Z"
    },
    "papermill": {
     "duration": 0.022734,
     "end_time": "2020-11-30T17:33:26.106447",
     "exception": false,
     "start_time": "2020-11-30T17:33:26.083713",
     "status": "completed"
    },
    "tags": []
   },
   "outputs": [
    {
     "name": "stdout",
     "output_type": "stream",
     "text": [
      "Appending to inference.py\n"
     ]
    }
   ],
   "source": [
    "%%writefile -a inference.py\n",
    "\n",
    "SEED = 42\n",
    "NFOLDS = 5\n",
    "np.random.seed(SEED)\n",
    "\n",
    "oof_preds = np.zeros(y_train_targets.shape)\n",
    "test_preds = np.zeros((test_features.shape[0], y_train_targets.shape[1]))\n",
    "oof_losses = []\n",
    "kf = KFold(n_splits=NFOLDS)\n",
    "\n",
    "for fn, (trn_idx, val_idx) in enumerate(kf.split(X_train_features, y_train_targets)):\n",
    "    print('Starting fold: ', fn)\n",
    "    X_train, X_val = X_train_features[trn_idx], X_train_features[val_idx]\n",
    "    y_train, y_val = y_train_targets[trn_idx], y_train_targets[val_idx]\n",
    "    \n",
    "    val_preds = loaded_model.predict_proba(X_val) # list of preds per class\n",
    "    val_preds = np.array(val_preds)[:,:,1].T # take the positive class\n",
    "    oof_preds[val_idx] = val_preds\n",
    "    \n",
    "    loss = log_loss(np.ravel(y_val), np.ravel(val_preds))\n",
    "    oof_losses.append(loss)\n",
    "\n",
    "print(oof_losses)\n",
    "print('Mean OOF loss across folds', np.mean(oof_losses))\n",
    "print('STD OOF loss across folds', np.std(oof_losses))"
   ]
  },
  {
   "cell_type": "markdown",
   "metadata": {
    "papermill": {
     "duration": 0.013503,
     "end_time": "2020-11-30T17:33:26.134435",
     "exception": false,
     "start_time": "2020-11-30T17:33:26.120932",
     "status": "completed"
    },
    "tags": []
   },
   "source": [
    "## Predict on test data"
   ]
  },
  {
   "cell_type": "code",
   "execution_count": 6,
   "metadata": {
    "execution": {
     "iopub.execute_input": "2020-11-30T17:33:26.167823Z",
     "iopub.status.busy": "2020-11-30T17:33:26.166913Z",
     "iopub.status.idle": "2020-11-30T17:33:26.171985Z",
     "shell.execute_reply": "2020-11-30T17:33:26.171315Z"
    },
    "papermill": {
     "duration": 0.023532,
     "end_time": "2020-11-30T17:33:26.172114",
     "exception": false,
     "start_time": "2020-11-30T17:33:26.148582",
     "status": "completed"
    },
    "tags": []
   },
   "outputs": [
    {
     "name": "stdout",
     "output_type": "stream",
     "text": [
      "Appending to inference.py\n"
     ]
    }
   ],
   "source": [
    "%%writefile -a inference.py\n",
    "\n",
    "# Predict\n",
    "test_preds = loaded_model.predict_proba(X_test)\n",
    "test_preds = np.array(test_preds)[:,:,1].T # take the positive class"
   ]
  },
  {
   "cell_type": "markdown",
   "metadata": {
    "papermill": {
     "duration": 0.014123,
     "end_time": "2020-11-30T17:33:26.201673",
     "exception": false,
     "start_time": "2020-11-30T17:33:26.187550",
     "status": "completed"
    },
    "tags": []
   },
   "source": [
    "## OOF log loss"
   ]
  },
  {
   "cell_type": "code",
   "execution_count": 7,
   "metadata": {
    "execution": {
     "iopub.execute_input": "2020-11-30T17:33:26.235075Z",
     "iopub.status.busy": "2020-11-30T17:33:26.234102Z",
     "iopub.status.idle": "2020-11-30T17:33:26.238394Z",
     "shell.execute_reply": "2020-11-30T17:33:26.238981Z"
    },
    "papermill": {
     "duration": 0.023309,
     "end_time": "2020-11-30T17:33:26.239147",
     "exception": false,
     "start_time": "2020-11-30T17:33:26.215838",
     "status": "completed"
    },
    "tags": []
   },
   "outputs": [
    {
     "name": "stdout",
     "output_type": "stream",
     "text": [
      "Appending to inference.py\n"
     ]
    }
   ],
   "source": [
    "%%writefile -a inference.py\n",
    "\n",
    "# set control train preds to 0\n",
    "control_mask = train_features2['cp_type']=='ctl_vehicle'\n",
    "oof_preds[control_mask] = 0\n",
    "\n",
    "print('OOF log loss: ', log_loss(np.ravel(y_train_targets), np.ravel(oof_preds)))"
   ]
  },
  {
   "cell_type": "markdown",
   "metadata": {
    "papermill": {
     "duration": 0.014024,
     "end_time": "2020-11-30T17:33:26.268929",
     "exception": false,
     "start_time": "2020-11-30T17:33:26.254905",
     "status": "completed"
    },
    "tags": []
   },
   "source": [
    "## Submission file"
   ]
  },
  {
   "cell_type": "code",
   "execution_count": 8,
   "metadata": {
    "execution": {
     "iopub.execute_input": "2020-11-30T17:33:26.303846Z",
     "iopub.status.busy": "2020-11-30T17:33:26.302956Z",
     "iopub.status.idle": "2020-11-30T17:33:26.308275Z",
     "shell.execute_reply": "2020-11-30T17:33:26.307527Z"
    },
    "papermill": {
     "duration": 0.024461,
     "end_time": "2020-11-30T17:33:26.308398",
     "exception": false,
     "start_time": "2020-11-30T17:33:26.283937",
     "status": "completed"
    },
    "tags": []
   },
   "outputs": [
    {
     "name": "stdout",
     "output_type": "stream",
     "text": [
      "Appending to inference.py\n"
     ]
    }
   ],
   "source": [
    "%%writefile -a inference.py\n",
    "\n",
    "sub.iloc[:,1:] = test_preds\n",
    "sub.to_csv('submission.csv', index=False)"
   ]
  },
  {
   "cell_type": "code",
   "execution_count": 9,
   "metadata": {
    "execution": {
     "iopub.execute_input": "2020-11-30T17:33:26.345481Z",
     "iopub.status.busy": "2020-11-30T17:33:26.344581Z",
     "iopub.status.idle": "2020-11-30T17:33:26.349128Z",
     "shell.execute_reply": "2020-11-30T17:33:26.348523Z"
    },
    "papermill": {
     "duration": 0.024967,
     "end_time": "2020-11-30T17:33:26.349242",
     "exception": false,
     "start_time": "2020-11-30T17:33:26.324275",
     "status": "completed"
    },
    "tags": []
   },
   "outputs": [
    {
     "name": "stdout",
     "output_type": "stream",
     "text": [
      "Appending to inference.py\n"
     ]
    }
   ],
   "source": [
    "%%writefile -a inference.py\n",
    "\n",
    "np.save('xgb-oof.npy', oof_preds)"
   ]
  },
  {
   "cell_type": "code",
   "execution_count": 10,
   "metadata": {
    "execution": {
     "iopub.execute_input": "2020-11-30T17:33:26.387475Z",
     "iopub.status.busy": "2020-11-30T17:33:26.386638Z",
     "iopub.status.idle": "2020-11-30T17:37:44.021619Z",
     "shell.execute_reply": "2020-11-30T17:37:44.017741Z"
    },
    "papermill": {
     "duration": 257.656231,
     "end_time": "2020-11-30T17:37:44.021783",
     "exception": false,
     "start_time": "2020-11-30T17:33:26.365552",
     "status": "completed"
    },
    "tags": []
   },
   "outputs": [
    {
     "name": "stdout",
     "output_type": "stream",
     "text": [
      "Starting fold:  0\r\n",
      "Starting fold:  1\r\n",
      "Starting fold:  2\r\n",
      "Starting fold:  3\r\n",
      "Starting fold:  4\r\n",
      "[0.014979477369147594, 0.01504830126307787, 0.014895901999032702, 0.015053951496768293, 0.0171170575506215]\r\n",
      "Mean OOF loss across folds 0.01541893793572959\r\n",
      "STD OOF loss across folds 0.0008509863748471652\r\n",
      "OOF log loss:  0.015179309323355594\r\n",
      "\u001b[0m"
     ]
    }
   ],
   "source": [
    "! python inference.py"
   ]
  }
 ],
 "metadata": {
  "kernelspec": {
   "display_name": "Python 3",
   "language": "python",
   "name": "python3"
  },
  "language_info": {
   "codemirror_mode": {
    "name": "ipython",
    "version": 3
   },
   "file_extension": ".py",
   "mimetype": "text/x-python",
   "name": "python",
   "nbconvert_exporter": "python",
   "pygments_lexer": "ipython3",
   "version": "3.7.6"
  },
  "papermill": {
   "duration": 262.622599,
   "end_time": "2020-11-30T17:37:44.175291",
   "environment_variables": {},
   "exception": null,
   "input_path": "__notebook__.ipynb",
   "output_path": "__notebook__.ipynb",
   "parameters": {},
   "start_time": "2020-11-30T17:33:21.552692",
   "version": "2.1.0"
  }
 },
 "nbformat": 4,
 "nbformat_minor": 4
}
