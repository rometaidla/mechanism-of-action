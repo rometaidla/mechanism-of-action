{
 "cells": [
  {
   "cell_type": "code",
   "execution_count": 1,
   "metadata": {
    "_cell_guid": "b1076dfc-b9ad-4769-8c92-a6c4dae69d19",
    "_uuid": "8f2839f25d086af736a60e9eeb907d3b93b6e0e5",
    "execution": {
     "iopub.execute_input": "2020-11-28T23:08:09.522898Z",
     "iopub.status.busy": "2020-11-28T23:08:09.521962Z",
     "iopub.status.idle": "2020-11-28T23:08:09.526638Z",
     "shell.execute_reply": "2020-11-28T23:08:09.527361Z"
    },
    "papermill": {
     "duration": 0.021714,
     "end_time": "2020-11-28T23:08:09.527584",
     "exception": false,
     "start_time": "2020-11-28T23:08:09.505870",
     "status": "completed"
    },
    "tags": []
   },
   "outputs": [
    {
     "name": "stdout",
     "output_type": "stream",
     "text": [
      "Writing inference.py\n"
     ]
    }
   ],
   "source": [
    "%%writefile inference.py\n",
    "\n",
    "import numpy as np\n",
    "import pandas as pd\n",
    "import matplotlib.pyplot as plt\n",
    "\n",
    "from sklearn import preprocessing\n",
    "from sklearn.preprocessing import StandardScaler\n",
    "from sklearn.model_selection import StratifiedKFold\n",
    "from sklearn.linear_model import LogisticRegression\n",
    "from sklearn.metrics import log_loss\n",
    "\n",
    "#from tqdm.notebook import tqdm\n",
    "from tqdm import tqdm\n",
    "\n",
    "import cuml\n",
    "from cuml.neighbors import KNeighborsClassifier as knn"
   ]
  },
  {
   "cell_type": "markdown",
   "metadata": {
    "papermill": {
     "duration": 0.010488,
     "end_time": "2020-11-28T23:08:09.549677",
     "exception": false,
     "start_time": "2020-11-28T23:08:09.539189",
     "status": "completed"
    },
    "tags": []
   },
   "source": [
    "# Load data"
   ]
  },
  {
   "cell_type": "code",
   "execution_count": 2,
   "metadata": {
    "_cell_guid": "79c7e3d0-c299-4dcb-8224-4455121ee9b0",
    "_uuid": "d629ff2d2480ee46fbb7e2d37f6b5fab8052498a",
    "execution": {
     "iopub.execute_input": "2020-11-28T23:08:09.575924Z",
     "iopub.status.busy": "2020-11-28T23:08:09.575153Z",
     "iopub.status.idle": "2020-11-28T23:08:09.579109Z",
     "shell.execute_reply": "2020-11-28T23:08:09.578565Z"
    },
    "papermill": {
     "duration": 0.018811,
     "end_time": "2020-11-28T23:08:09.579203",
     "exception": false,
     "start_time": "2020-11-28T23:08:09.560392",
     "status": "completed"
    },
    "tags": []
   },
   "outputs": [
    {
     "name": "stdout",
     "output_type": "stream",
     "text": [
      "Appending to inference.py\n"
     ]
    }
   ],
   "source": [
    "%%writefile -a inference.py\n",
    "\n",
    "train_features = pd.read_csv('../input/lish-moa/train_features.csv')\n",
    "train_targets = pd.read_csv('../input/lish-moa/train_targets_scored.csv')\n",
    "test_features = pd.read_csv('../input/lish-moa/test_features.csv')"
   ]
  },
  {
   "cell_type": "markdown",
   "metadata": {
    "papermill": {
     "duration": 0.011045,
     "end_time": "2020-11-28T23:08:09.601455",
     "exception": false,
     "start_time": "2020-11-28T23:08:09.590410",
     "status": "completed"
    },
    "tags": []
   },
   "source": [
    "# Preprocess data"
   ]
  },
  {
   "cell_type": "code",
   "execution_count": 3,
   "metadata": {
    "execution": {
     "iopub.execute_input": "2020-11-28T23:08:09.629410Z",
     "iopub.status.busy": "2020-11-28T23:08:09.628533Z",
     "iopub.status.idle": "2020-11-28T23:08:09.632230Z",
     "shell.execute_reply": "2020-11-28T23:08:09.632717Z"
    },
    "papermill": {
     "duration": 0.019923,
     "end_time": "2020-11-28T23:08:09.632870",
     "exception": false,
     "start_time": "2020-11-28T23:08:09.612947",
     "status": "completed"
    },
    "tags": []
   },
   "outputs": [
    {
     "name": "stdout",
     "output_type": "stream",
     "text": [
      "Appending to inference.py\n"
     ]
    }
   ],
   "source": [
    "%%writefile -a inference.py\n",
    "\n",
    "def preprocess_features(df):\n",
    "    df = df.copy()\n",
    "    df['cp_dose'] = df['cp_dose'].map({'D1': 0, 'D2': 1})\n",
    "    df['cp_type'] = df['cp_type'].map({'trt_cp': 0, 'ctl_vehicle': 1})\n",
    "    df['cp_time'] = df['cp_time'].map({24: 0, 48: 1, 72: 2})\n",
    "    #df.drop(columns=['sig_id', 'cp_type'], inplace=True)\n",
    "    del df['sig_id']\n",
    "    return df\n",
    "    \n",
    "train_features = preprocess_features(train_features)\n",
    "test_features = preprocess_features(test_features)\n",
    "del train_targets['sig_id']"
   ]
  },
  {
   "cell_type": "code",
   "execution_count": 4,
   "metadata": {
    "execution": {
     "iopub.execute_input": "2020-11-28T23:08:09.661386Z",
     "iopub.status.busy": "2020-11-28T23:08:09.660582Z",
     "iopub.status.idle": "2020-11-28T23:08:09.665299Z",
     "shell.execute_reply": "2020-11-28T23:08:09.664646Z"
    },
    "papermill": {
     "duration": 0.020414,
     "end_time": "2020-11-28T23:08:09.665420",
     "exception": false,
     "start_time": "2020-11-28T23:08:09.645006",
     "status": "completed"
    },
    "tags": []
   },
   "outputs": [
    {
     "name": "stdout",
     "output_type": "stream",
     "text": [
      "Appending to inference.py\n"
     ]
    }
   ],
   "source": [
    "%%writefile -a inference.py\n",
    "\n",
    "def log_loss_metric(y_true, y_pred):\n",
    "    metrics = []\n",
    "    for _target in train_targets.columns:\n",
    "        metrics.append(log_loss(y_true.loc[:, _target], y_pred.loc[:, _target].astype(float), labels = [0,1]))\n",
    "    return np.mean(metrics)"
   ]
  },
  {
   "cell_type": "markdown",
   "metadata": {
    "papermill": {
     "duration": 0.01198,
     "end_time": "2020-11-28T23:08:09.690073",
     "exception": false,
     "start_time": "2020-11-28T23:08:09.678093",
     "status": "completed"
    },
    "tags": []
   },
   "source": [
    "# Train model"
   ]
  },
  {
   "cell_type": "code",
   "execution_count": 5,
   "metadata": {
    "execution": {
     "iopub.execute_input": "2020-11-28T23:08:09.719493Z",
     "iopub.status.busy": "2020-11-28T23:08:09.718596Z",
     "iopub.status.idle": "2020-11-28T23:08:09.723087Z",
     "shell.execute_reply": "2020-11-28T23:08:09.722592Z"
    },
    "papermill": {
     "duration": 0.020852,
     "end_time": "2020-11-28T23:08:09.723183",
     "exception": false,
     "start_time": "2020-11-28T23:08:09.702331",
     "status": "completed"
    },
    "tags": []
   },
   "outputs": [
    {
     "name": "stdout",
     "output_type": "stream",
     "text": [
      "Appending to inference.py\n"
     ]
    }
   ],
   "source": [
    "%%writefile -a inference.py\n",
    "\n",
    "scaler = StandardScaler()\n",
    "X = scaler.fit_transform(train_features).astype('float32')\n",
    "X_test = scaler.transform(test_features).astype('float32')"
   ]
  },
  {
   "cell_type": "code",
   "execution_count": 6,
   "metadata": {
    "execution": {
     "iopub.execute_input": "2020-11-28T23:08:09.753903Z",
     "iopub.status.busy": "2020-11-28T23:08:09.753113Z",
     "iopub.status.idle": "2020-11-28T23:08:09.757095Z",
     "shell.execute_reply": "2020-11-28T23:08:09.756522Z"
    },
    "papermill": {
     "duration": 0.021274,
     "end_time": "2020-11-28T23:08:09.757193",
     "exception": false,
     "start_time": "2020-11-28T23:08:09.735919",
     "status": "completed"
    },
    "tags": []
   },
   "outputs": [
    {
     "name": "stdout",
     "output_type": "stream",
     "text": [
      "Appending to inference.py\n"
     ]
    }
   ],
   "source": [
    "%%writefile -a inference.py\n",
    "\n",
    "target_columns = train_targets.columns\n",
    "\n",
    "val_predictions = train_targets.copy()\n",
    "val_predictions.loc[:, target_columns] = 0\n",
    "\n",
    "test_predictions = pd.read_csv('../input/lish-moa/sample_submission.csv')\n",
    "test_predictions.loc[:, target_columns] = 0\n",
    "\n",
    "FOLDS = 3\n",
    "\n",
    "progress_bar = tqdm(range(train_targets.shape[1]))\n",
    "for target_column_idx in progress_bar:\n",
    "    \n",
    "    train_targets_column = train_targets.values[:, target_column_idx]\n",
    "    \n",
    "    if train_targets_column.sum() >= FOLDS: # If target column has less non-zero labels than folds, just skip the column\n",
    "\n",
    "        skf = StratifiedKFold(n_splits = FOLDS, random_state = 42, shuffle = True)\n",
    "        for n, (train_idx, val_idx) in enumerate(skf.split(train_targets_column, train_targets_column)):\n",
    "\n",
    "            X_train, X_val = X[train_idx], X[val_idx]\n",
    "            y_train, y_val = train_targets_column[train_idx], train_targets_column[val_idx]\n",
    "\n",
    "            model = knn(n_neighbors=206)\n",
    "            model.fit(X_train, y_train)\n",
    "            \n",
    "            val_predictions.loc[val_idx, train_targets.columns[target_column_idx]] += model.predict_proba(X_val)[:, 1]\n",
    "            test_predictions.loc[:, train_targets.columns[target_column_idx]] += model.predict_proba(X_test)[:, 1] / FOLDS\n",
    "        \n",
    "    score = log_loss(train_targets.loc[:, train_targets.columns[target_column_idx]], val_predictions.loc[:, train_targets.columns[target_column_idx]])\n",
    "    progress_bar.set_description(f\"KNN Processing {target_column_idx+1} score: {score:.4f}\")\n",
    "    #print(f\"{target_column_idx+1} Target column {train_targets.columns[target_column_idx]} validation score: {score:.7f}\")\n",
    "    "
   ]
  },
  {
   "cell_type": "code",
   "execution_count": 7,
   "metadata": {
    "execution": {
     "iopub.execute_input": "2020-11-28T23:08:09.788477Z",
     "iopub.status.busy": "2020-11-28T23:08:09.787611Z",
     "iopub.status.idle": "2020-11-28T23:08:09.792404Z",
     "shell.execute_reply": "2020-11-28T23:08:09.791770Z"
    },
    "papermill": {
     "duration": 0.02203,
     "end_time": "2020-11-28T23:08:09.792533",
     "exception": false,
     "start_time": "2020-11-28T23:08:09.770503",
     "status": "completed"
    },
    "tags": []
   },
   "outputs": [
    {
     "name": "stdout",
     "output_type": "stream",
     "text": [
      "Appending to inference.py\n"
     ]
    }
   ],
   "source": [
    "%%writefile -a inference.py\n",
    "\n",
    "print(f'KNN OOF before postprocessing: {log_loss_metric(train_targets, val_predictions)}')\n",
    "val_predictions.loc[train_features['cp_type'] == 1, train_targets.columns] = 0\n",
    "test_predictions.loc[test_features['cp_type'] == 1, train_targets.columns] = 0\n",
    "print(f'KNN OOF after postprocessing: {log_loss_metric(train_targets, val_predictions)}')"
   ]
  },
  {
   "cell_type": "code",
   "execution_count": 8,
   "metadata": {
    "execution": {
     "iopub.execute_input": "2020-11-28T23:08:09.825020Z",
     "iopub.status.busy": "2020-11-28T23:08:09.824181Z",
     "iopub.status.idle": "2020-11-28T23:08:09.828161Z",
     "shell.execute_reply": "2020-11-28T23:08:09.828896Z"
    },
    "papermill": {
     "duration": 0.022239,
     "end_time": "2020-11-28T23:08:09.829033",
     "exception": false,
     "start_time": "2020-11-28T23:08:09.806794",
     "status": "completed"
    },
    "tags": []
   },
   "outputs": [
    {
     "name": "stdout",
     "output_type": "stream",
     "text": [
      "Appending to inference.py\n"
     ]
    }
   ],
   "source": [
    "%%writefile -a inference.py\n",
    "\n",
    "cols = [c for c in test_predictions.columns.values if c != 'sig_id'] # todo: do we need this???\n",
    "X_val_p = val_predictions[cols].values \n",
    "X_test_p = test_predictions[cols].values\n",
    "\n",
    "reg_test_pred = pd.read_csv('../input/lish-moa/sample_submission.csv')\n",
    "reg_test_pred.loc[:, train_targets.columns] = 0\n",
    "reg_val_pred = train_targets.copy()\n",
    "reg_val_pred.loc[:, train_targets.columns] = 0"
   ]
  },
  {
   "cell_type": "code",
   "execution_count": 9,
   "metadata": {
    "execution": {
     "iopub.execute_input": "2020-11-28T23:08:09.862918Z",
     "iopub.status.busy": "2020-11-28T23:08:09.862187Z",
     "iopub.status.idle": "2020-11-28T23:08:09.865666Z",
     "shell.execute_reply": "2020-11-28T23:08:09.866332Z"
    },
    "papermill": {
     "duration": 0.022677,
     "end_time": "2020-11-28T23:08:09.866468",
     "exception": false,
     "start_time": "2020-11-28T23:08:09.843791",
     "status": "completed"
    },
    "tags": []
   },
   "outputs": [
    {
     "name": "stdout",
     "output_type": "stream",
     "text": [
      "Appending to inference.py\n"
     ]
    }
   ],
   "source": [
    "%%writefile -a inference.py\n",
    "\n",
    "progress_bar = tqdm(range(train_targets.shape[1]))\n",
    "for target_column_id in progress_bar:\n",
    "    target_values = train_targets.values[:, target_column_id]\n",
    "    \n",
    "    if target_values.sum() >= FOLDS:\n",
    "        skf = StratifiedKFold(n_splits = FOLDS, random_state = 42, shuffle = True)\n",
    "        for n, (train_idx, val_idx) in enumerate(skf.split(target_values, target_values)):\n",
    "            \n",
    "            X_train, X_val = X_val_p[train_idx, target_column_id].reshape(-1, 1), X_val_p[val_idx, target_column_id].reshape(-1, 1)\n",
    "            y_train, y_val = target_values[train_idx], target_values[val_idx]\n",
    "            \n",
    "            model = LogisticRegression(C = 35, max_iter = 1000)\n",
    "            model.fit(X_train, y_train)\n",
    "\n",
    "            reg_val_pred.loc[val_idx, train_targets.columns[target_column_id]] += model.predict_proba(X_val)[:, 1]\n",
    "            reg_test_pred.loc[:, train_targets.columns[target_column_id]] += model.predict_proba(X_test_p[:, target_column_id].reshape(-1, 1))[:, 1] / FOLDS\n",
    "            \n",
    "    score = log_loss(train_targets.loc[:, train_targets.columns[target_column_id]], reg_val_pred.loc[:, train_targets.columns[target_column_id]])\n",
    "    progress_bar.set_description(f\"Processing {target_column_id+1} score: {score:.4f}\")"
   ]
  },
  {
   "cell_type": "code",
   "execution_count": 10,
   "metadata": {
    "execution": {
     "iopub.execute_input": "2020-11-28T23:08:09.902003Z",
     "iopub.status.busy": "2020-11-28T23:08:09.901147Z",
     "iopub.status.idle": "2020-11-28T23:08:09.905128Z",
     "shell.execute_reply": "2020-11-28T23:08:09.905766Z"
    },
    "papermill": {
     "duration": 0.024185,
     "end_time": "2020-11-28T23:08:09.905908",
     "exception": false,
     "start_time": "2020-11-28T23:08:09.881723",
     "status": "completed"
    },
    "tags": []
   },
   "outputs": [
    {
     "name": "stdout",
     "output_type": "stream",
     "text": [
      "Appending to inference.py\n"
     ]
    }
   ],
   "source": [
    "%%writefile -a inference.py\n",
    "\n",
    "print(f'LR OOF before postprocessing: {log_loss_metric(train_targets, reg_val_pred)}')\n",
    "reg_val_pred.loc[train_features['cp_type'] == 1, train_targets.columns] = 0\n",
    "reg_test_pred.loc[test_features['cp_type'] == 1, train_targets.columns] = 0\n",
    "print(f'LR OOF after postprocessing: {log_loss_metric(train_targets, reg_val_pred)}')"
   ]
  },
  {
   "cell_type": "markdown",
   "metadata": {
    "papermill": {
     "duration": 0.015081,
     "end_time": "2020-11-28T23:08:09.936750",
     "exception": false,
     "start_time": "2020-11-28T23:08:09.921669",
     "status": "completed"
    },
    "tags": []
   },
   "source": [
    "# Create submission file"
   ]
  },
  {
   "cell_type": "code",
   "execution_count": 11,
   "metadata": {
    "execution": {
     "iopub.execute_input": "2020-11-28T23:08:09.971530Z",
     "iopub.status.busy": "2020-11-28T23:08:09.970669Z",
     "iopub.status.idle": "2020-11-28T23:08:09.975285Z",
     "shell.execute_reply": "2020-11-28T23:08:09.974602Z"
    },
    "papermill": {
     "duration": 0.023367,
     "end_time": "2020-11-28T23:08:09.975412",
     "exception": false,
     "start_time": "2020-11-28T23:08:09.952045",
     "status": "completed"
    },
    "tags": []
   },
   "outputs": [
    {
     "name": "stdout",
     "output_type": "stream",
     "text": [
      "Appending to inference.py\n"
     ]
    }
   ],
   "source": [
    "%%writefile -a inference.py\n",
    "\n",
    "reg_val_pred.to_csv('val-submission.csv', index=False)\n",
    "reg_test_pred.to_csv('submission.csv', index=False)"
   ]
  },
  {
   "cell_type": "code",
   "execution_count": 12,
   "metadata": {
    "execution": {
     "iopub.execute_input": "2020-11-28T23:08:10.011863Z",
     "iopub.status.busy": "2020-11-28T23:08:10.011038Z",
     "iopub.status.idle": "2020-11-28T23:14:19.525477Z",
     "shell.execute_reply": "2020-11-28T23:14:19.523935Z"
    },
    "papermill": {
     "duration": 369.533634,
     "end_time": "2020-11-28T23:14:19.525608",
     "exception": false,
     "start_time": "2020-11-28T23:08:09.991974",
     "status": "completed"
    },
    "tags": []
   },
   "outputs": [
    {
     "name": "stdout",
     "output_type": "stream",
     "text": [
      "KNN Processing 206 score: 0.0418: 100%|███████| 206/206 [05:12<00:00,  1.52s/it]\r\n",
      "KNN OOF before postprocessing: 0.03726781574365857\r\n",
      "KNN OOF after postprocessing: 0.037048725335690674\r\n",
      "Processing 206 score: 0.0097: 100%|███████████| 206/206 [00:25<00:00,  8.05it/s]\r\n",
      "LR OOF before postprocessing: 0.01811029382238117\r\n",
      "LR OOF after postprocessing: 0.01791203290735428\r\n",
      "\u001b[0m"
     ]
    }
   ],
   "source": [
    "! python inference.py"
   ]
  }
 ],
 "metadata": {
  "kernelspec": {
   "display_name": "Python 3",
   "language": "python",
   "name": "python3"
  },
  "language_info": {
   "codemirror_mode": {
    "name": "ipython",
    "version": 3
   },
   "file_extension": ".py",
   "mimetype": "text/x-python",
   "name": "python",
   "nbconvert_exporter": "python",
   "pygments_lexer": "ipython3",
   "version": "3.7.6"
  },
  "papermill": {
   "duration": 374.431746,
   "end_time": "2020-11-28T23:14:19.796707",
   "environment_variables": {},
   "exception": null,
   "input_path": "__notebook__.ipynb",
   "output_path": "__notebook__.ipynb",
   "parameters": {},
   "start_time": "2020-11-28T23:08:05.364961",
   "version": "2.1.0"
  }
 },
 "nbformat": 4,
 "nbformat_minor": 4
}
