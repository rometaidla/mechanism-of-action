{
 "cells": [
  {
   "cell_type": "code",
   "execution_count": 1,
   "metadata": {
    "_cell_guid": "79c7e3d0-c299-4dcb-8224-4455121ee9b0",
    "_uuid": "d629ff2d2480ee46fbb7e2d37f6b5fab8052498a",
    "execution": {
     "iopub.execute_input": "2020-11-29T13:12:39.286002Z",
     "iopub.status.busy": "2020-11-29T13:12:39.284886Z",
     "iopub.status.idle": "2020-11-29T13:12:39.290466Z",
     "shell.execute_reply": "2020-11-29T13:12:39.290996Z"
    },
    "papermill": {
     "duration": 0.020243,
     "end_time": "2020-11-29T13:12:39.291203",
     "exception": false,
     "start_time": "2020-11-29T13:12:39.270960",
     "status": "completed"
    },
    "tags": []
   },
   "outputs": [
    {
     "name": "stdout",
     "output_type": "stream",
     "text": [
      "Writing inference.py\n"
     ]
    }
   ],
   "source": [
    "%%writefile inference.py\n",
    "import pandas as pd\n",
    "import numpy as np\n",
    "from sklearn.model_selection import KFold\n",
    "from sklearn.multioutput import MultiOutputClassifier\n",
    "from sklearn.linear_model import LogisticRegression\n",
    "from joblib import dump, load\n",
    "import pickle\n",
    "from sklearn.preprocessing import LabelEncoder\n",
    "from sklearn.metrics import log_loss\n",
    "from datetime import date\n",
    "from sklearn.pipeline import Pipeline\n",
    "from sklearn.svm import SVC\n",
    "from sklearn.preprocessing import StandardScaler\n",
    "from sklearn.decomposition import PCA"
   ]
  },
  {
   "cell_type": "code",
   "execution_count": 2,
   "metadata": {
    "execution": {
     "iopub.execute_input": "2020-11-29T13:12:39.311909Z",
     "iopub.status.busy": "2020-11-29T13:12:39.311206Z",
     "iopub.status.idle": "2020-11-29T13:12:39.314209Z",
     "shell.execute_reply": "2020-11-29T13:12:39.314806Z"
    },
    "papermill": {
     "duration": 0.01554,
     "end_time": "2020-11-29T13:12:39.314940",
     "exception": false,
     "start_time": "2020-11-29T13:12:39.299400",
     "status": "completed"
    },
    "tags": []
   },
   "outputs": [
    {
     "name": "stdout",
     "output_type": "stream",
     "text": [
      "Appending to inference.py\n"
     ]
    }
   ],
   "source": [
    "%%writefile -a inference.py\n",
    "data_folder = '../input/lish-moa/'\n",
    "\n",
    "# fix the random seed \n",
    "xseed = 43\n",
    "\n",
    "# number of folds for cv\n",
    "nfolds = 5\n",
    "\n",
    "# number of components to retain from PCA decomposition\n",
    "nof_comp = 250\n",
    "\n",
    "model_name = 'lr'"
   ]
  },
  {
   "cell_type": "code",
   "execution_count": 3,
   "metadata": {
    "execution": {
     "iopub.execute_input": "2020-11-29T13:12:39.336071Z",
     "iopub.status.busy": "2020-11-29T13:12:39.335180Z",
     "iopub.status.idle": "2020-11-29T13:12:39.338568Z",
     "shell.execute_reply": "2020-11-29T13:12:39.337928Z"
    },
    "papermill": {
     "duration": 0.016075,
     "end_time": "2020-11-29T13:12:39.338690",
     "exception": false,
     "start_time": "2020-11-29T13:12:39.322615",
     "status": "completed"
    },
    "tags": []
   },
   "outputs": [
    {
     "name": "stdout",
     "output_type": "stream",
     "text": [
      "Appending to inference.py\n"
     ]
    }
   ],
   "source": [
    "%%writefile -a inference.py\n",
    "xtrain = pd.read_csv(data_folder + 'train_features.csv')\n",
    "xtest = pd.read_csv(data_folder + 'test_features.csv')\n",
    "ytrain = pd.read_csv(data_folder + 'train_targets_scored.csv')"
   ]
  },
  {
   "cell_type": "code",
   "execution_count": 4,
   "metadata": {
    "execution": {
     "iopub.execute_input": "2020-11-29T13:12:39.360396Z",
     "iopub.status.busy": "2020-11-29T13:12:39.359710Z",
     "iopub.status.idle": "2020-11-29T13:12:39.362955Z",
     "shell.execute_reply": "2020-11-29T13:12:39.362360Z"
    },
    "papermill": {
     "duration": 0.016134,
     "end_time": "2020-11-29T13:12:39.363071",
     "exception": false,
     "start_time": "2020-11-29T13:12:39.346937",
     "status": "completed"
    },
    "tags": []
   },
   "outputs": [
    {
     "name": "stdout",
     "output_type": "stream",
     "text": [
      "Appending to inference.py\n"
     ]
    }
   ],
   "source": [
    "%%writefile -a inference.py\n",
    "# due to small cardinality of all values, it's faster to handle categoricals that way,\n",
    "\n",
    "#print(set(xtrain['cp_time']), set(xtest['cp_time']) )\n",
    "\n",
    "# cp_time\n",
    "xtrain['cp_time_24'] = (xtrain['cp_time'] == 24) + 0\n",
    "xtrain['cp_time_48'] = (xtrain['cp_time'] == 48) + 0\n",
    "xtest['cp_time_24'] = (xtest['cp_time'] == 24) + 0\n",
    "xtest['cp_time_48'] = (xtest['cp_time'] == 48) + 0\n",
    "xtrain.drop('cp_time', axis = 1, inplace = True)\n",
    "xtest.drop('cp_time', axis = 1, inplace = True)\n",
    "\n",
    "# cp_dose\n",
    "#print(set(xtrain['cp_dose']), set(xtest['cp_dose']) )\n",
    "xtrain['cp_dose_D1'] = (xtrain['cp_dose'] == 'D1') + 0\n",
    "xtest['cp_dose_D1'] = (xtest['cp_dose'] == 'D1') + 0\n",
    "xtrain.drop('cp_dose', axis = 1, inplace = True)\n",
    "xtest.drop('cp_dose', axis = 1, inplace = True)\n",
    "\n",
    "# cp_type\n",
    "xtrain['cp_type_control'] = (xtrain['cp_type'] == 'ctl_vehicle') + 0\n",
    "xtest['cp_type_control'] = (xtest['cp_type'] == 'ctl_vehicle') + 0\n",
    "xtrain.drop('cp_type', axis = 1, inplace = True)\n",
    "xtest.drop('cp_type', axis = 1, inplace = True)"
   ]
  },
  {
   "cell_type": "code",
   "execution_count": 5,
   "metadata": {
    "execution": {
     "iopub.execute_input": "2020-11-29T13:12:39.385674Z",
     "iopub.status.busy": "2020-11-29T13:12:39.384720Z",
     "iopub.status.idle": "2020-11-29T13:12:39.387981Z",
     "shell.execute_reply": "2020-11-29T13:12:39.388532Z"
    },
    "papermill": {
     "duration": 0.017053,
     "end_time": "2020-11-29T13:12:39.388675",
     "exception": false,
     "start_time": "2020-11-29T13:12:39.371622",
     "status": "completed"
    },
    "tags": []
   },
   "outputs": [
    {
     "name": "stdout",
     "output_type": "stream",
     "text": [
      "Appending to inference.py\n"
     ]
    }
   ],
   "source": [
    "%%writefile -a inference.py\n",
    "# prepare split\n",
    "import sys\n",
    "sys.path.append('../input/iterative-stratification/iterative-stratification-master')\n",
    "from iterstrat.ml_stratifiers import MultilabelStratifiedKFold\n",
    "kf = MultilabelStratifiedKFold(n_splits = nfolds)\n",
    "\n",
    "# separation\n",
    "id_train = xtrain['sig_id']; id_test = xtest['sig_id']\n",
    "ytrain.drop('sig_id', axis = 1, inplace = True) \n",
    "xtrain.drop('sig_id', axis = 1, inplace = True)\n",
    "xtest.drop('sig_id', axis = 1, inplace = True)\n",
    "\n",
    "# storage matrices for OOF / test predictions\n",
    "prval = np.zeros(ytrain.shape)\n",
    "prfull = np.zeros((xtest.shape[0], ytrain.shape[1]))"
   ]
  },
  {
   "cell_type": "code",
   "execution_count": 6,
   "metadata": {
    "execution": {
     "iopub.execute_input": "2020-11-29T13:12:39.411863Z",
     "iopub.status.busy": "2020-11-29T13:12:39.410888Z",
     "iopub.status.idle": "2020-11-29T13:12:39.414779Z",
     "shell.execute_reply": "2020-11-29T13:12:39.414116Z"
    },
    "papermill": {
     "duration": 0.017412,
     "end_time": "2020-11-29T13:12:39.414882",
     "exception": false,
     "start_time": "2020-11-29T13:12:39.397470",
     "status": "completed"
    },
    "tags": []
   },
   "outputs": [
    {
     "name": "stdout",
     "output_type": "stream",
     "text": [
      "Appending to inference.py\n"
     ]
    }
   ],
   "source": [
    "%%writefile -a inference.py\n",
    "# base model definition throught sklearn Pipeline\n",
    "pca = PCA(n_components = nof_comp)\n",
    "logistic = LogisticRegression(max_iter=10000, tol=0.1, C = 0.5)\n",
    "base_model = Pipeline(steps=[('pca', pca), ('logistic', logistic)])\n",
    "\n",
    "# a pipeline can be fed into MultiOutputClassifier just like a regular estimator would\n",
    "mo_base = MultiOutputClassifier(base_model, n_jobs=-1)"
   ]
  },
  {
   "cell_type": "code",
   "execution_count": 7,
   "metadata": {
    "execution": {
     "iopub.execute_input": "2020-11-29T13:12:39.438069Z",
     "iopub.status.busy": "2020-11-29T13:12:39.437338Z",
     "iopub.status.idle": "2020-11-29T13:12:39.441165Z",
     "shell.execute_reply": "2020-11-29T13:12:39.440363Z"
    },
    "papermill": {
     "duration": 0.017378,
     "end_time": "2020-11-29T13:12:39.441322",
     "exception": false,
     "start_time": "2020-11-29T13:12:39.423944",
     "status": "completed"
    },
    "tags": []
   },
   "outputs": [
    {
     "name": "stdout",
     "output_type": "stream",
     "text": [
      "Appending to inference.py\n"
     ]
    }
   ],
   "source": [
    "%%writefile -a inference.py\n",
    "for (ff, (id0, id1)) in enumerate(kf.split(xtrain,ytrain)):\n",
    "     \n",
    "    x0, x1 = xtrain.loc[id0], xtrain.loc[id1]\n",
    "    y0, y1 = np.array(ytrain.loc[id0]), np.array(ytrain.loc[id1])\n",
    "    \n",
    "    # stupid fix for empty columns - LogisticRegression blows up otherwise \n",
    "    # (the problem occurs for two folds only, each time for a single column)\n",
    "    # yes, i know it's ugly\n",
    "    check_for_empty_cols = np.where(y0.sum(axis = 0) == 0)[0]\n",
    "    if len(check_for_empty_cols):\n",
    "        y0[0,check_for_empty_cols] = 1\n",
    "    \n",
    "    # fit model\n",
    "    mo_base.fit(x0,y0)\n",
    "    \n",
    "    # generate the prediction\n",
    "    vpred = mo_base.predict_proba(x1)\n",
    "    fpred = mo_base.predict_proba(xtest)\n",
    "    \n",
    "    for ii in range(0,ytrain.shape[1]):\n",
    "        \n",
    "        prval[id1,ii] = vpred[ii][:,1]\n",
    "        prfull[:,ii] += fpred[ii][:,1]/nfolds  "
   ]
  },
  {
   "cell_type": "code",
   "execution_count": 8,
   "metadata": {
    "execution": {
     "iopub.execute_input": "2020-11-29T13:12:39.467093Z",
     "iopub.status.busy": "2020-11-29T13:12:39.466402Z",
     "iopub.status.idle": "2020-11-29T13:12:39.470434Z",
     "shell.execute_reply": "2020-11-29T13:12:39.469570Z"
    },
    "papermill": {
     "duration": 0.018135,
     "end_time": "2020-11-29T13:12:39.470583",
     "exception": false,
     "start_time": "2020-11-29T13:12:39.452448",
     "status": "completed"
    },
    "tags": []
   },
   "outputs": [
    {
     "name": "stdout",
     "output_type": "stream",
     "text": [
      "Appending to inference.py\n"
     ]
    }
   ],
   "source": [
    "%%writefile -a inference.py\n",
    "prval = pd.DataFrame(prval); prval.columns = ytrain.columns\n",
    "prval['sig_id'] = id_train\n",
    "\n",
    "prfull = pd.DataFrame(prfull); prfull.columns = ytrain.columns\n",
    "prfull['sig_id'] = id_test"
   ]
  },
  {
   "cell_type": "code",
   "execution_count": 9,
   "metadata": {
    "execution": {
     "iopub.execute_input": "2020-11-29T13:12:39.497472Z",
     "iopub.status.busy": "2020-11-29T13:12:39.496488Z",
     "iopub.status.idle": "2020-11-29T13:12:39.500673Z",
     "shell.execute_reply": "2020-11-29T13:12:39.500004Z"
    },
    "papermill": {
     "duration": 0.01902,
     "end_time": "2020-11-29T13:12:39.500785",
     "exception": false,
     "start_time": "2020-11-29T13:12:39.481765",
     "status": "completed"
    },
    "tags": []
   },
   "outputs": [
    {
     "name": "stdout",
     "output_type": "stream",
     "text": [
      "Appending to inference.py\n"
     ]
    }
   ],
   "source": [
    "%%writefile -a inference.py\n",
    "metrics = []\n",
    "for _target in ytrain.columns:\n",
    "    metrics.append(log_loss(ytrain.loc[:, _target], prval.loc[:, _target]))\n",
    "print(f'OOF Metric: {np.round(np.mean(metrics),4)}')"
   ]
  },
  {
   "cell_type": "code",
   "execution_count": 10,
   "metadata": {
    "execution": {
     "iopub.execute_input": "2020-11-29T13:12:39.527533Z",
     "iopub.status.busy": "2020-11-29T13:12:39.526577Z",
     "iopub.status.idle": "2020-11-29T13:12:39.529763Z",
     "shell.execute_reply": "2020-11-29T13:12:39.530373Z"
    },
    "papermill": {
     "duration": 0.019147,
     "end_time": "2020-11-29T13:12:39.530512",
     "exception": false,
     "start_time": "2020-11-29T13:12:39.511365",
     "status": "completed"
    },
    "tags": []
   },
   "outputs": [
    {
     "name": "stdout",
     "output_type": "stream",
     "text": [
      "Appending to inference.py\n"
     ]
    }
   ],
   "source": [
    "%%writefile -a inference.py\n",
    "xcols = list(ytrain.columns); xcols.insert(0, 'sig_id')\n",
    "prval = prval[xcols]; prfull = prfull[xcols]\n",
    "\n",
    "np.save('log-reg-oof.npy', prval.values[:, 1:])\n",
    "# actual submission\n",
    "prfull.to_csv('submission.csv', index = False)"
   ]
  },
  {
   "cell_type": "code",
   "execution_count": 11,
   "metadata": {
    "execution": {
     "iopub.execute_input": "2020-11-29T13:12:39.557888Z",
     "iopub.status.busy": "2020-11-29T13:12:39.557097Z",
     "iopub.status.idle": "2020-11-29T13:51:28.629156Z",
     "shell.execute_reply": "2020-11-29T13:51:28.628399Z"
    },
    "papermill": {
     "duration": 2329.087772,
     "end_time": "2020-11-29T13:51:28.629291",
     "exception": false,
     "start_time": "2020-11-29T13:12:39.541519",
     "status": "completed"
    },
    "tags": []
   },
   "outputs": [
    {
     "name": "stdout",
     "output_type": "stream",
     "text": [
      "/opt/conda/lib/python3.7/site-packages/sklearn/utils/validation.py:70: FutureWarning: Pass shuffle=False, random_state=None as keyword args. From version 0.25 passing these as positional arguments will result in an error\r\n",
      "  FutureWarning)\r\n",
      "OOF Metric: 0.0215\r\n"
     ]
    }
   ],
   "source": [
    "! python inference.py"
   ]
  }
 ],
 "metadata": {
  "kernelspec": {
   "display_name": "Python 3",
   "language": "python",
   "name": "python3"
  },
  "language_info": {
   "codemirror_mode": {
    "name": "ipython",
    "version": 3
   },
   "file_extension": ".py",
   "mimetype": "text/x-python",
   "name": "python",
   "nbconvert_exporter": "python",
   "pygments_lexer": "ipython3",
   "version": "3.7.6"
  },
  "papermill": {
   "duration": 2333.831344,
   "end_time": "2020-11-29T13:51:28.748872",
   "environment_variables": {},
   "exception": null,
   "input_path": "__notebook__.ipynb",
   "output_path": "__notebook__.ipynb",
   "parameters": {},
   "start_time": "2020-11-29T13:12:34.917528",
   "version": "2.1.0"
  }
 },
 "nbformat": 4,
 "nbformat_minor": 4
}
