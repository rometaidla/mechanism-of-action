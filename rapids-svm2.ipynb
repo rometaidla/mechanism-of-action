{
 "cells": [
  {
   "cell_type": "code",
   "execution_count": 1,
   "metadata": {
    "_cell_guid": "b1076dfc-b9ad-4769-8c92-a6c4dae69d19",
    "_uuid": "8f2839f25d086af736a60e9eeb907d3b93b6e0e5",
    "execution": {
     "iopub.execute_input": "2020-11-29T04:45:35.845716Z",
     "iopub.status.busy": "2020-11-29T04:45:35.844671Z",
     "iopub.status.idle": "2020-11-29T04:45:35.849470Z",
     "shell.execute_reply": "2020-11-29T04:45:35.848933Z"
    },
    "papermill": {
     "duration": 0.023271,
     "end_time": "2020-11-29T04:45:35.849577",
     "exception": false,
     "start_time": "2020-11-29T04:45:35.826306",
     "status": "completed"
    },
    "tags": []
   },
   "outputs": [
    {
     "name": "stdout",
     "output_type": "stream",
     "text": [
      "Writing inference.py\n"
     ]
    }
   ],
   "source": [
    "%%writefile inference.py\n",
    "\n",
    "\n",
    "import numpy as np\n",
    "import pandas as pd\n",
    "import matplotlib.pyplot as plt\n",
    "\n",
    "from sklearn import preprocessing\n",
    "from sklearn.preprocessing import StandardScaler\n",
    "from sklearn.model_selection import StratifiedKFold\n",
    "from sklearn.linear_model import LogisticRegression\n",
    "from sklearn.metrics import log_loss\n",
    "\n",
    "from cuml.svm import SVC\n",
    "\n",
    "#from tqdm.notebook import tqdm\n",
    "from tqdm import tqdm"
   ]
  },
  {
   "cell_type": "markdown",
   "metadata": {
    "papermill": {
     "duration": 0.011833,
     "end_time": "2020-11-29T04:45:35.874119",
     "exception": false,
     "start_time": "2020-11-29T04:45:35.862286",
     "status": "completed"
    },
    "tags": []
   },
   "source": [
    "# Load data"
   ]
  },
  {
   "cell_type": "code",
   "execution_count": 2,
   "metadata": {
    "_cell_guid": "79c7e3d0-c299-4dcb-8224-4455121ee9b0",
    "_uuid": "d629ff2d2480ee46fbb7e2d37f6b5fab8052498a",
    "execution": {
     "iopub.execute_input": "2020-11-29T04:45:35.903115Z",
     "iopub.status.busy": "2020-11-29T04:45:35.902217Z",
     "iopub.status.idle": "2020-11-29T04:45:35.907624Z",
     "shell.execute_reply": "2020-11-29T04:45:35.906797Z"
    },
    "papermill": {
     "duration": 0.021197,
     "end_time": "2020-11-29T04:45:35.907740",
     "exception": false,
     "start_time": "2020-11-29T04:45:35.886543",
     "status": "completed"
    },
    "tags": []
   },
   "outputs": [
    {
     "name": "stdout",
     "output_type": "stream",
     "text": [
      "Appending to inference.py\n"
     ]
    }
   ],
   "source": [
    "%%writefile -a inference.py\n",
    "\n",
    "\n",
    "train_features = pd.read_csv('../input/lish-moa/train_features.csv')\n",
    "train_targets = pd.read_csv('../input/lish-moa/train_targets_scored.csv')\n",
    "test_features = pd.read_csv('../input/lish-moa/test_features.csv')"
   ]
  },
  {
   "cell_type": "markdown",
   "metadata": {
    "papermill": {
     "duration": 0.011656,
     "end_time": "2020-11-29T04:45:35.931742",
     "exception": false,
     "start_time": "2020-11-29T04:45:35.920086",
     "status": "completed"
    },
    "tags": []
   },
   "source": [
    "# Preprocess data"
   ]
  },
  {
   "cell_type": "code",
   "execution_count": 3,
   "metadata": {
    "execution": {
     "iopub.execute_input": "2020-11-29T04:45:35.960866Z",
     "iopub.status.busy": "2020-11-29T04:45:35.959920Z",
     "iopub.status.idle": "2020-11-29T04:45:35.964598Z",
     "shell.execute_reply": "2020-11-29T04:45:35.963902Z"
    },
    "papermill": {
     "duration": 0.020717,
     "end_time": "2020-11-29T04:45:35.964691",
     "exception": false,
     "start_time": "2020-11-29T04:45:35.943974",
     "status": "completed"
    },
    "tags": []
   },
   "outputs": [
    {
     "name": "stdout",
     "output_type": "stream",
     "text": [
      "Appending to inference.py\n"
     ]
    }
   ],
   "source": [
    "%%writefile -a inference.py\n",
    "\n",
    "\n",
    "def preprocess_features(df):\n",
    "    df = df.copy()\n",
    "    df['cp_dose'] = df['cp_dose'].map({'D1': 0, 'D2': 1})\n",
    "    df['cp_type'] = df['cp_type'].map({'trt_cp': 0, 'ctl_vehicle': 1})\n",
    "    df['cp_time'] = df['cp_time'].map({24: 0, 48: 1, 72: 2})\n",
    "    del df['sig_id']\n",
    "    return df\n",
    "    \n",
    "train_features = preprocess_features(train_features)\n",
    "test_features = preprocess_features(test_features)\n",
    "del train_targets['sig_id']"
   ]
  },
  {
   "cell_type": "markdown",
   "metadata": {
    "papermill": {
     "duration": 0.013093,
     "end_time": "2020-11-29T04:45:35.990265",
     "exception": false,
     "start_time": "2020-11-29T04:45:35.977172",
     "status": "completed"
    },
    "tags": []
   },
   "source": [
    "# Train model"
   ]
  },
  {
   "cell_type": "code",
   "execution_count": 4,
   "metadata": {
    "execution": {
     "iopub.execute_input": "2020-11-29T04:45:36.020679Z",
     "iopub.status.busy": "2020-11-29T04:45:36.019740Z",
     "iopub.status.idle": "2020-11-29T04:45:36.024505Z",
     "shell.execute_reply": "2020-11-29T04:45:36.023958Z"
    },
    "papermill": {
     "duration": 0.021565,
     "end_time": "2020-11-29T04:45:36.024608",
     "exception": false,
     "start_time": "2020-11-29T04:45:36.003043",
     "status": "completed"
    },
    "tags": []
   },
   "outputs": [
    {
     "name": "stdout",
     "output_type": "stream",
     "text": [
      "Appending to inference.py\n"
     ]
    }
   ],
   "source": [
    "%%writefile -a inference.py\n",
    "\n",
    "scaler = StandardScaler()\n",
    "X = scaler.fit_transform(train_features)\n",
    "X_test = scaler.transform(test_features)"
   ]
  },
  {
   "cell_type": "code",
   "execution_count": 5,
   "metadata": {
    "execution": {
     "iopub.execute_input": "2020-11-29T04:45:36.057758Z",
     "iopub.status.busy": "2020-11-29T04:45:36.056955Z",
     "iopub.status.idle": "2020-11-29T04:45:36.060300Z",
     "shell.execute_reply": "2020-11-29T04:45:36.060931Z"
    },
    "papermill": {
     "duration": 0.02326,
     "end_time": "2020-11-29T04:45:36.061038",
     "exception": false,
     "start_time": "2020-11-29T04:45:36.037778",
     "status": "completed"
    },
    "tags": []
   },
   "outputs": [
    {
     "name": "stdout",
     "output_type": "stream",
     "text": [
      "Appending to inference.py\n"
     ]
    }
   ],
   "source": [
    "%%writefile -a inference.py\n",
    "\n",
    "target_columns = train_targets.columns\n",
    "\n",
    "val_predictions = train_targets.copy()\n",
    "val_predictions.loc[:, target_columns] = 0\n",
    "\n",
    "test_predictions = pd.read_csv('../input/lish-moa/sample_submission.csv')\n",
    "test_predictions.loc[:, target_columns] = 0\n",
    "\n",
    "FOLDS = 5\n",
    "SEEDS = 3\n",
    "\n",
    "progress_bar = tqdm(range(train_targets.shape[1]))\n",
    "for target_column_idx in progress_bar:\n",
    "    \n",
    "    train_targets_column = train_targets.values[:, target_column_idx]\n",
    "    \n",
    "    if train_targets_column.sum() >= FOLDS: # If target column has less non-zero labels than folds, just skip the column\n",
    "        \n",
    "        for seed in range(SEEDS):\n",
    "\n",
    "            skf = StratifiedKFold(n_splits = FOLDS, random_state = seed, shuffle = True)\n",
    "            for n, (train_idx, val_idx) in enumerate(skf.split(train_targets_column, train_targets_column)):\n",
    "\n",
    "                X_train, X_val = X[train_idx], X[val_idx]\n",
    "                y_train, y_val = train_targets_column[train_idx], train_targets_column[val_idx]\n",
    "\n",
    "                model = SVC(C = 40, cache_size = 2000)\n",
    "                model.fit(X_train, y_train)\n",
    "\n",
    "                val_predictions.loc[val_idx, train_targets.columns[target_column_idx]] += model.decision_function(X_val) / SEEDS\n",
    "                test_predictions.loc[:, train_targets.columns[target_column_idx]] += model.decision_function(X_test) / (FOLDS*SEEDS)\n",
    "        \n",
    "    score = log_loss(train_targets.loc[:, train_targets.columns[target_column_idx]], val_predictions.loc[:, train_targets.columns[target_column_idx]])\n",
    "    progress_bar.set_description(f\"Processing {target_column_idx+1} score: {score:.4f}\")\n",
    "    #print(f\"{target_column_idx+1} Target column {train_targets.columns[target_column_idx]} validation score: {score:.7f}\")\n",
    "    "
   ]
  },
  {
   "cell_type": "code",
   "execution_count": 6,
   "metadata": {
    "execution": {
     "iopub.execute_input": "2020-11-29T04:45:36.093988Z",
     "iopub.status.busy": "2020-11-29T04:45:36.092946Z",
     "iopub.status.idle": "2020-11-29T04:45:36.097525Z",
     "shell.execute_reply": "2020-11-29T04:45:36.098244Z"
    },
    "papermill": {
     "duration": 0.02334,
     "end_time": "2020-11-29T04:45:36.098414",
     "exception": false,
     "start_time": "2020-11-29T04:45:36.075074",
     "status": "completed"
    },
    "tags": []
   },
   "outputs": [
    {
     "name": "stdout",
     "output_type": "stream",
     "text": [
      "Appending to inference.py\n"
     ]
    }
   ],
   "source": [
    "%%writefile -a inference.py\n",
    "\n",
    "\n",
    "def log_loss_metric(y_true, y_pred):\n",
    "    metrics = []\n",
    "    for _target in train_targets.columns:\n",
    "        metrics.append(log_loss(y_true.loc[:, _target], y_pred.loc[:, _target].astype(float), labels = [0,1]))\n",
    "    return np.mean(metrics)"
   ]
  },
  {
   "cell_type": "code",
   "execution_count": 7,
   "metadata": {
    "execution": {
     "iopub.execute_input": "2020-11-29T04:45:36.131500Z",
     "iopub.status.busy": "2020-11-29T04:45:36.130617Z",
     "iopub.status.idle": "2020-11-29T04:45:36.135181Z",
     "shell.execute_reply": "2020-11-29T04:45:36.134551Z"
    },
    "papermill": {
     "duration": 0.022472,
     "end_time": "2020-11-29T04:45:36.135308",
     "exception": false,
     "start_time": "2020-11-29T04:45:36.112836",
     "status": "completed"
    },
    "tags": []
   },
   "outputs": [
    {
     "name": "stdout",
     "output_type": "stream",
     "text": [
      "Appending to inference.py\n"
     ]
    }
   ],
   "source": [
    "%%writefile -a inference.py\n",
    "\n",
    "print(f'SVM OOF before postprocessing: {log_loss_metric(train_targets, val_predictions)}')\n",
    "val_predictions.loc[train_features['cp_type'] == 1, train_targets.columns] = 0\n",
    "test_predictions.loc[test_features['cp_type'] == 1, train_targets.columns] = 0\n",
    "print(f'SVM OOF after postprocessing: {log_loss_metric(train_targets, val_predictions)}')"
   ]
  },
  {
   "cell_type": "code",
   "execution_count": 8,
   "metadata": {
    "execution": {
     "iopub.execute_input": "2020-11-29T04:45:36.171605Z",
     "iopub.status.busy": "2020-11-29T04:45:36.170669Z",
     "iopub.status.idle": "2020-11-29T04:45:36.175797Z",
     "shell.execute_reply": "2020-11-29T04:45:36.174979Z"
    },
    "papermill": {
     "duration": 0.025044,
     "end_time": "2020-11-29T04:45:36.175929",
     "exception": false,
     "start_time": "2020-11-29T04:45:36.150885",
     "status": "completed"
    },
    "tags": []
   },
   "outputs": [
    {
     "name": "stdout",
     "output_type": "stream",
     "text": [
      "Appending to inference.py\n"
     ]
    }
   ],
   "source": [
    "%%writefile -a inference.py\n",
    "\n",
    "cols = [c for c in test_predictions.columns.values if c != 'sig_id'] # todo: do we need this???\n",
    "X_val_p = val_predictions[cols].values \n",
    "X_test_p = test_predictions[cols].values\n",
    "\n",
    "reg_test_pred = pd.read_csv('../input/lish-moa/sample_submission.csv')\n",
    "reg_test_pred.loc[:, train_targets.columns] = 0\n",
    "reg_val_pred = train_targets.copy()\n",
    "reg_val_pred.loc[:, train_targets.columns] = 0"
   ]
  },
  {
   "cell_type": "code",
   "execution_count": 9,
   "metadata": {
    "execution": {
     "iopub.execute_input": "2020-11-29T04:45:36.214011Z",
     "iopub.status.busy": "2020-11-29T04:45:36.213055Z",
     "iopub.status.idle": "2020-11-29T04:45:36.217236Z",
     "shell.execute_reply": "2020-11-29T04:45:36.218056Z"
    },
    "papermill": {
     "duration": 0.026093,
     "end_time": "2020-11-29T04:45:36.218210",
     "exception": false,
     "start_time": "2020-11-29T04:45:36.192117",
     "status": "completed"
    },
    "tags": []
   },
   "outputs": [
    {
     "name": "stdout",
     "output_type": "stream",
     "text": [
      "Appending to inference.py\n"
     ]
    }
   ],
   "source": [
    "%%writefile -a inference.py\n",
    "\n",
    "FOLDS = 5\n",
    "SEEDS = 3\n",
    "\n",
    "progress_bar = tqdm(range(train_targets.shape[1]))\n",
    "for target_column_id in progress_bar:\n",
    "    target_values = train_targets.values[:, target_column_id]\n",
    "    \n",
    "    if target_values.sum() >= FOLDS:\n",
    "        for seed in range(SEEDS):\n",
    "            skf = StratifiedKFold(n_splits = FOLDS, random_state = seed, shuffle = True)\n",
    "            for n, (train_idx, val_idx) in enumerate(skf.split(target_values, target_values)):\n",
    "\n",
    "                X_train, X_val = X_val_p[train_idx, target_column_id].reshape(-1, 1), X_val_p[val_idx, target_column_id].reshape(-1, 1)\n",
    "                y_train, y_val = target_values[train_idx], target_values[val_idx]\n",
    "\n",
    "                model = LogisticRegression(C = 35, max_iter = 1000)\n",
    "                model.fit(X_train, y_train)\n",
    "\n",
    "                reg_val_pred.loc[val_idx, train_targets.columns[target_column_id]] += model.predict_proba(X_val)[:, 1] / SEEDS\n",
    "                reg_test_pred.loc[:, train_targets.columns[target_column_id]] += model.predict_proba(X_test_p[:, target_column_id].reshape(-1, 1))[:, 1] / (FOLDS*SEEDS)\n",
    "            \n",
    "    score = log_loss(train_targets.loc[:, train_targets.columns[target_column_id]], reg_val_pred.loc[:, train_targets.columns[target_column_id]])\n",
    "    progress_bar.set_description(f\"Processing {target_column_id+1} score: {score:.4f}\")"
   ]
  },
  {
   "cell_type": "code",
   "execution_count": 10,
   "metadata": {
    "execution": {
     "iopub.execute_input": "2020-11-29T04:45:36.256494Z",
     "iopub.status.busy": "2020-11-29T04:45:36.255546Z",
     "iopub.status.idle": "2020-11-29T04:45:36.261295Z",
     "shell.execute_reply": "2020-11-29T04:45:36.260599Z"
    },
    "papermill": {
     "duration": 0.026578,
     "end_time": "2020-11-29T04:45:36.261472",
     "exception": false,
     "start_time": "2020-11-29T04:45:36.234894",
     "status": "completed"
    },
    "tags": []
   },
   "outputs": [
    {
     "name": "stdout",
     "output_type": "stream",
     "text": [
      "Appending to inference.py\n"
     ]
    }
   ],
   "source": [
    "%%writefile -a inference.py\n",
    "\n",
    "print(f'LR OOF before postprocessing: {log_loss_metric(train_targets, reg_val_pred)}')\n",
    "reg_val_pred.loc[train_features['cp_type'] == 1, train_targets.columns] = 0\n",
    "reg_test_pred.loc[test_features['cp_type'] == 1, train_targets.columns] = 0\n",
    "print(f'LR OOF after postprocessing: {log_loss_metric(train_targets, reg_val_pred)}')"
   ]
  },
  {
   "cell_type": "markdown",
   "metadata": {
    "papermill": {
     "duration": 0.017431,
     "end_time": "2020-11-29T04:45:36.295583",
     "exception": false,
     "start_time": "2020-11-29T04:45:36.278152",
     "status": "completed"
    },
    "tags": []
   },
   "source": [
    "# Create submission file"
   ]
  },
  {
   "cell_type": "code",
   "execution_count": 11,
   "metadata": {
    "execution": {
     "iopub.execute_input": "2020-11-29T04:45:36.333152Z",
     "iopub.status.busy": "2020-11-29T04:45:36.332252Z",
     "iopub.status.idle": "2020-11-29T04:45:36.336079Z",
     "shell.execute_reply": "2020-11-29T04:45:36.336884Z"
    },
    "papermill": {
     "duration": 0.025216,
     "end_time": "2020-11-29T04:45:36.337050",
     "exception": false,
     "start_time": "2020-11-29T04:45:36.311834",
     "status": "completed"
    },
    "tags": []
   },
   "outputs": [
    {
     "name": "stdout",
     "output_type": "stream",
     "text": [
      "Appending to inference.py\n"
     ]
    }
   ],
   "source": [
    "%%writefile -a inference.py\n",
    "\n",
    "reg_test_pred.to_csv('submission.csv', index=False)\n",
    "np.save('svm-oof.npy', reg_val_pred.values)"
   ]
  },
  {
   "cell_type": "code",
   "execution_count": 12,
   "metadata": {
    "execution": {
     "iopub.execute_input": "2020-11-29T04:45:36.378052Z",
     "iopub.status.busy": "2020-11-29T04:45:36.377013Z",
     "iopub.status.idle": "2020-11-29T05:28:56.759194Z",
     "shell.execute_reply": "2020-11-29T05:28:56.759981Z"
    },
    "papermill": {
     "duration": 2600.40439,
     "end_time": "2020-11-29T05:28:56.760173",
     "exception": false,
     "start_time": "2020-11-29T04:45:36.355783",
     "status": "completed"
    },
    "tags": []
   },
   "outputs": [
    {
     "name": "stdout",
     "output_type": "stream",
     "text": [
      "Processing 206 score: 0.0435: 100%|███████████| 206/206 [41:10<00:00, 11.99s/it]\r\n",
      "SVM OOF before postprocessing: 0.09469813448888163\r\n",
      "SVM OOF after postprocessing: 0.0946980483983166\r\n",
      "Processing 206 score: 0.0097: 100%|███████████| 206/206 [01:47<00:00,  1.91it/s]\r\n",
      "LR OOF before postprocessing: 0.017923020668368515\r\n",
      "LR OOF after postprocessing: 0.017054487297791708\r\n",
      "\u001b[0m"
     ]
    }
   ],
   "source": [
    "! python inference.py"
   ]
  }
 ],
 "metadata": {
  "kernelspec": {
   "display_name": "Python 3",
   "language": "python",
   "name": "python3"
  },
  "language_info": {
   "codemirror_mode": {
    "name": "ipython",
    "version": 3
   },
   "file_extension": ".py",
   "mimetype": "text/x-python",
   "name": "python",
   "nbconvert_exporter": "python",
   "pygments_lexer": "ipython3",
   "version": "3.7.6"
  },
  "papermill": {
   "duration": 2605.972301,
   "end_time": "2020-11-29T05:28:57.149397",
   "environment_variables": {},
   "exception": null,
   "input_path": "__notebook__.ipynb",
   "output_path": "__notebook__.ipynb",
   "parameters": {},
   "start_time": "2020-11-29T04:45:31.177096",
   "version": "2.1.0"
  }
 },
 "nbformat": 4,
 "nbformat_minor": 4
}
